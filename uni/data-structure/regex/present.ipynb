{
 "cells": [
  {
   "cell_type": "code",
   "execution_count": null,
   "metadata": {},
   "outputs": [],
   "source": [
    "# `re` is the name of RegEx module in Python\n",
    "import re"
   ]
  },
  {
   "cell_type": "code",
   "execution_count": null,
   "metadata": {},
   "outputs": [],
   "source": [
    "# define a RegEx pattern\n",
    "r\"<YOUR PATTERN>\"\n",
    "re.compile(\"<YOUR PATTERN>\")"
   ]
  },
  {
   "cell_type": "code",
   "execution_count": null,
   "metadata": {},
   "outputs": [],
   "source": [
    "# find only strings\n",
    "re.findall(r\"\", \"12 + 2 - 3 * 44334 / 3\")"
   ]
  },
  {
   "cell_type": "code",
   "execution_count": null,
   "metadata": {},
   "outputs": [],
   "source": [
    "# reading from a file\n",
    "content = open(\"Everything.Everywhere.All.At.Once.srt\").read()"
   ]
  },
  {
   "cell_type": "code",
   "execution_count": null,
   "metadata": {},
   "outputs": [],
   "source": [
    "# --- define subtitle pattern\n",
    "\n",
    "time_pattern = \"\\d{2}:\\d{2}:\\d{2},\\d{3}\"\n",
    "head_pattern = f\"(\\d+)\\n({time_pattern}) --> ({time_pattern})\"\n",
    "\n",
    "caption_pattern = re.compile(f\"{head_pattern}\\n(.+?)\\n\\n(?=\\d+\\n)\", re.DOTALL + re.MULTILINE)\n",
    "caption_pattern"
   ]
  },
  {
   "cell_type": "code",
   "execution_count": null,
   "metadata": {},
   "outputs": [],
   "source": [
    "\n",
    "# --- find all captions\n",
    "captions = re.findall(caption_pattern , content)\n",
    "captions"
   ]
  },
  {
   "cell_type": "code",
   "execution_count": null,
   "metadata": {},
   "outputs": [],
   "source": [
    "match_object = re.search(caption_pattern, content)\n",
    "match_object"
   ]
  },
  {
   "cell_type": "code",
   "execution_count": null,
   "metadata": {},
   "outputs": [],
   "source": [
    "match_object\n",
    "\n",
    "#.groups()\n",
    "#.group(1)\n",
    "# .span()\n",
    "# .start()\n",
    "# .end()"
   ]
  },
  {
   "cell_type": "code",
   "execution_count": null,
   "metadata": {},
   "outputs": [],
   "source": [
    "list(re.finditer(caption_pattern, content))"
   ]
  },
  {
   "cell_type": "code",
   "execution_count": null,
   "metadata": {},
   "outputs": [],
   "source": [
    "# substitute\n",
    "def partial_calculate(match):\n",
    "  (left, operator, right) = (int(match[1]), match[2], int(match[3]))\n",
    "\n",
    "  if operator == '*':\n",
    "    result = left * right\n",
    "\n",
    "  elif operator == '/':\n",
    "    result = left / right\n",
    "    \n",
    "  elif operator == '+':\n",
    "    result = left + right\n",
    "\n",
    "  elif operator == '-':\n",
    "    result = left - right\n",
    "    \n",
    "  return str(int(result))\n",
    "\n",
    "expr = \"12+2-3*12/3\"\n",
    "\n",
    "for op in ['/', '\\*', '\\+', '-']:\n",
    "  pattern = re.compile(f\"(\\d+)({op})(\\d+)\")\n",
    "  expr = re.sub(pattern, partial_calculate, expr)\n",
    "  # print(expr)\n",
    "\n",
    "expr"
   ]
  }
 ],
 "metadata": {
  "interpreter": {
   "hash": "25034407fed5d681614dac11a1c0537e8cb49e3a8883c071303eea01322943d9"
  },
  "kernelspec": {
   "display_name": "Python 3.9.4 64-bit",
   "language": "python",
   "name": "python3"
  },
  "language_info": {
   "codemirror_mode": {
    "name": "ipython",
    "version": 3
   },
   "file_extension": ".py",
   "mimetype": "text/x-python",
   "name": "python",
   "nbconvert_exporter": "python",
   "pygments_lexer": "ipython3",
   "version": "3.9.4"
  },
  "orig_nbformat": 4
 },
 "nbformat": 4,
 "nbformat_minor": 2
}
