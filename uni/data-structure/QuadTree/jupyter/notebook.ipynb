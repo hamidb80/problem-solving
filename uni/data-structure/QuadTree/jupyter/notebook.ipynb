{
 "cells": [
  {
   "cell_type": "markdown",
   "metadata": {},
   "source": [
    "<h1 align=center> Quad Tree (درخت 4-گانه) <h1>"
   ]
  },
  {
   "cell_type": "markdown",
   "metadata": {},
   "source": [
    "<div dir=rtl>\n",
    "\n",
    "ایده جستحوی باینری رو یادت میاد؟ ایده درخت باینری رو چطور؟\n",
    "\n",
    "اگر یادت باشه، میدونی که جیزی که توی درخت باینری ذخیره میکردیم، داده های تک بعدی بودن\n",
    "( مثل عدد )\n",
    "\n",
    "---------------\n",
    "\n",
    "### اما برای داده های \"چند بعدی\" چطور؟\n",
    " \n",
    "اگر بخوایم به طور مثال اعلاعاتی رو به همراه مختصاتشون روی نقشه ذخیره کنیم، چطوری بعدا پیداشون کنیم؟\n",
    "\n",
    "*خب دوست من، اینجا جاییه که درخت 4 گانه وارد میشود!*\n",
    "\n",
    "> البته درخت 4 گانه برای مختصات دو بعدیه، برای 3 بعدی از یک تیپ دیگه استفاده میکننه به نام درخت 8 گانه ولی کلیت کار همینه\n"
   ]
  },
  {
   "cell_type": "markdown",
   "metadata": {},
   "source": [
    "![intro](./intro.png \"Title\")"
   ]
  },
  {
   "cell_type": "markdown",
   "metadata": {},
   "source": [
    "<div dir=\"rtl\">\n",
    "\n",
    "## ایده\n",
    "ایده این ساختمان داده اینه که اگر تعداد \"چیز\"ها توی یک قسمت به بیشنتر از حد معینی رسید،\n",
    "بیا اون قسمت رو به 4 تا زیر مجموعه تقسیم کن\n",
    "\n",
    "برای جستجو اش هم، از ریشه شروع میکنه و هر شاخه ای که مساحتش با مساحت خواسته شده تداخل داشت،\n",
    "میگرده، این کار رو تا زمانی انجام میده که اون ناحیه دیگه زیرمجموعه نداشته باشه،\n",
    "اون موقع میاد محتویات اون ناحیه ( که شامل همون \"چیز\" ها میشه) رو میگرده تا ببینه کدوما توی مساخت خواسته شده هستن\n",
    "\n",
    "در خصوص حذف کردن از این درخت، روش های زیادی وجود داره ولی تا جایی که ممکنه سعی میکنن از درخت چیزی حذف نکنن چون الگوریتم هاش ی مقدار پیچیده است و من بهش نمیپردازم\n",
    "\n"
   ]
  },
  {
   "cell_type": "markdown",
   "metadata": {},
   "source": [
    "-------------\n",
    "<div dir=rtl>\n",
    "\n",
    "## کد\n",
    "اول، ی سریع چیزا رو تعریف کردم که بعدا بهش احتیاج پیدا میکنیم"
   ]
  },
  {
   "cell_type": "code",
   "execution_count": 1,
   "metadata": {},
   "outputs": [],
   "source": [
    "from dataclasses import *\n",
    "\n",
    "# =================================================== Basic Classes\n",
    "\n",
    "\n",
    "@dataclass\n",
    "class Range:\n",
    "    start: float\n",
    "    end: float\n",
    "\n",
    "    def size(r):\n",
    "        return r.end - r.start\n",
    "\n",
    "    def insersects(r1, r2) -> bool:\n",
    "        \"\"\"\n",
    "        determines wether the ranges `r1` & `r2` have intersection or not\n",
    "\n",
    "        HAVING INTERSECTION:\n",
    "        A: (0..4) ~ (2..6)\n",
    "            +---(2)---+\n",
    "        +--(1)---+\n",
    "\n",
    "        B: (2..6) ~ (0..4)\n",
    "        +---(2)---+\n",
    "            +--(1)---+\n",
    "\n",
    "        C: (2..3) ~ (0..6)\n",
    "        +-----(2)------+\n",
    "            +-(1)-+\n",
    "\n",
    "        D: (0..6) ~ (2..3)\n",
    "            +-(2)-+\n",
    "        +-----(1)------+\n",
    "\n",
    "\n",
    "        NO INTERSECTION:\n",
    "        E: (0..4) ~ (5..9)\n",
    "                    +--(2)---+\n",
    "        +--(1)--+\n",
    "\n",
    "        F: (5..9) ~ (0..4)\n",
    "        +--(2)--+\n",
    "                    +--(1)--+\n",
    "        \"\"\"\n",
    "\n",
    "        s = min(r1.end, r2.end) - max(r1.start, r2.start)\n",
    "        return (s > 0) and (s <= r1.size()) and (s <= r2.size())\n",
    "\n",
    "\n",
    "@dataclass\n",
    "class Point:\n",
    "    x: float\n",
    "    y: float\n",
    "\n",
    "\n",
    "@dataclass\n",
    "class Geometry:\n",
    "    \"\"\"\n",
    "    mimics a rectangle\n",
    "    \"\"\"\n",
    "    x: float\n",
    "    y: float\n",
    "    w: float\n",
    "    h: float\n",
    "\n",
    "    def intersects(g1, g2) -> bool:\n",
    "        \"\"\"\n",
    "        checks wheter the 2 rectangle `g1` & `g2` intersects with\n",
    "        each other or not\n",
    "        \"\"\"\n",
    "\n",
    "        ix = Range(g1.x, g1.x + g1.w).insersects(Range(g2.x, g2.x + g2.w))\n",
    "        iy = Range(g1.y, g1.y + g1.h).insersects(Range(g2.y, g2.y + g2.h))\n",
    "\n",
    "        return (ix and iy)\n",
    "\n",
    "    def contains(g, p: Point) -> bool:\n",
    "        \"\"\"\n",
    "        checks wether point `p` is in the area of rectangle `g` or not\n",
    "        \"\"\"\n",
    "        return (\n",
    "            (p.x >= g.x and p.x <= (g.x + g.w)) and\n",
    "            (p.y >= g.y and p.y <= (g.y + g.h)))\n",
    "\n"
   ]
  },
  {
   "cell_type": "markdown",
   "metadata": {},
   "source": [
    "<div dir=rtl>\n",
    "\n",
    "**توضیح کد های بالا**:\n",
    "1. **کلاس Range**:\n",
    "  این کلاس یک بازه رو در فضای تک بعدی مشخص میکنه که \n",
    "  شامل دو تا متد میشه\n",
    "  \n",
    "   - **متد len:**\n",
    "    این متد اندازه بازه رو برمیگردونه -\n",
    "    که میشه تفاضل آخر و اول بازه\n",
    "\n",
    "   - **متد intersects:**\n",
    "    این متد دوتا بازه میگیره و مشخص میکنه که آیا این دوتا باهم تداخل دارن یا نه\n",
    "\n",
    "2. **کلاس Point:**\n",
    "    این کلاس یک نقطه توی دستکاه مختصات دو بعدی رو نمایندگی میکنه\n",
    "\n",
    "3. **کلاس Geometry:**\n",
    "    این کلاس یک مسطتیل رو نمایندگی میکنه و دو تا متد داره\n",
    "\n",
    "    - **متد intersects:**\n",
    "        دو تا مستطیل میگیره و مشخص میکنه آیا اینا باهم تداخل دارن یا نه\n",
    "\n",
    "    - **متد contains:**\n",
    "        ی مستطیل میگیره و ی نقطه و مشخص میکنه که آیا اون نطقه توی مسطیل هست یا نه\n",
    "        "
   ]
  },
  {
   "cell_type": "code",
   "execution_count": 2,
   "metadata": {},
   "outputs": [],
   "source": [
    "@dataclass\n",
    "class Entry:\n",
    "    \"\"\"\n",
    "    this class is used as \"main thing\" in the QuadSpace\n",
    "    \"\"\"\n",
    "    id: int\n",
    "    location: Point\n",
    "\n",
    "\n",
    "@dataclass\n",
    "class QuadNode:\n",
    "    level: int\n",
    "    geometry: Geometry\n",
    "    nodes: list\n",
    "    entries: list\n",
    "\n",
    "    def which_quadrant(qn, p: Point) -> int:\n",
    "        \"\"\"\n",
    "        with assumming point `p` intersects with QuadNode `qn`,\n",
    "        determines the index of quadrant (sub QuadNode) in which `p` \n",
    "        belongs to\n",
    "        \"\"\"\n",
    "\n",
    "        xMid = qn.geometry.x + qn.geometry.w/2\n",
    "        yMid = qn.geometry.y + qn.geometry.h/2\n",
    "\n",
    "        if p.x < xMid:\n",
    "            if p.y < yMid:\n",
    "                return 0\n",
    "            else:\n",
    "                return 1\n",
    "        else:\n",
    "            if p.y < yMid:\n",
    "                return 2\n",
    "            else:\n",
    "                return 3\n",
    "\n",
    "    def is_leaf(qn) -> bool:\n",
    "        return len(qn.nodes) == 0\n",
    "\n"
   ]
  },
  {
   "cell_type": "markdown",
   "metadata": {},
   "source": [
    "<div dir=rtl>\n",
    "\n",
    "**توضیح کد های بالا**:\n",
    "1. **کلاس Entry**:\n",
    "    این کلاس به عناون المان اصلی ما توی درخت 4-گانه استفاده میشه\n",
    "\n",
    "2. **کلاس QuadNode**:\n",
    "    این کلاس هر گره از درخت 4 گانه رو مشخص میکنه\n",
    "    \n",
    "    این کلاس 4 تا مشخصه داره:\n",
    "    \n",
    "    - **مشخصه level**:\n",
    "      نشون دهنده عمق این گره در درخت 4 گانه هست\n",
    "\n",
    "    - **مشخصه geometry:**\n",
    "      نشون دهنده مختصات و اندازه این گره هست (مساحت)\n",
    "    \n",
    "    - **مشخصه nodes:**\n",
    "      یک لیست هست که اگر خالی باشه یعنی هیچ گره زیرمجموعه نداره\n",
    "      یا 4 تا گره زیر مجموعه اش توشه\n",
    "    \n",
    "    - **مشخصه entries:**\n",
    "      اگر این گره هیچ زیر مجموعه ای نداشته باشه،\n",
    "      المان های ذخیره ای ما اینجا در یک لیست ذخیره میشن\n",
    "\n",
    "\n",
    "    و دوتا متد داره\n",
    "\n",
    "    - **متد which_quadrant**:\n",
    "      که یک نقطه میگیره واندیس خروجی میده.\n",
    "      اون اندیس مشخص میکنه که نقطه p توی کدوم 4 قسمت از این درخت 4 گانه قرار داره\n",
    "\n",
    "    - **متد is_leaf**:\n",
    "      این متد مشخص میکنه که آیا این گره زیرشاخه دیگه ای هم داره یا نه\n",
    "      اگر نداشت True برمیگردونه"
   ]
  },
  {
   "cell_type": "code",
   "execution_count": 3,
   "metadata": {},
   "outputs": [],
   "source": [
    "def toCircle(x, y, r=2.4, color='red'):\n",
    "    return f\"\"\"\n",
    "        <circle cx=\"{x}\" cy=\"{y}\" r=\"{r}\" fill=\"{color}\"/>\n",
    "    \"\"\"\n",
    "\n",
    "def toRect(geo, color=\"transparent\", border=1):\n",
    "    return f\"\"\"\n",
    "        <rect x=\"{geo.x}\" y=\"{geo.y}\" width=\"{geo.w}\" height=\"{geo.h}\" stroke=\"black\" fill=\"{color}\" stroke-width=\"{border}\"/>\n",
    "    \"\"\""
   ]
  },
  {
   "cell_type": "markdown",
   "metadata": {},
   "source": [
    "<div dir=rtl>\n",
    "\n",
    "موقع import کردن فایل ارور میداد، مجبور شدم این کد ها 👆👆 رو اینجا بیارم"
   ]
  },
  {
   "cell_type": "code",
   "execution_count": 7,
   "metadata": {},
   "outputs": [],
   "source": [
    "from IPython.display import SVG\n",
    "\n",
    "@dataclass\n",
    "class Entry:\n",
    "    \"\"\"\n",
    "    this class is used as \"main thing\" in the QuadSpace\n",
    "    \"\"\"\n",
    "    id: int\n",
    "    location: Point\n",
    "\n",
    "\n",
    "@dataclass\n",
    "class QuadNode:\n",
    "    level: int\n",
    "    geometry: Geometry\n",
    "    nodes: list\n",
    "    entries: list\n",
    "\n",
    "    def which_quadrant(qn, p: Point) -> int:\n",
    "        \"\"\"\n",
    "        with assumming point `p` intersects with QuadNode `qn`,\n",
    "        determines the index of quadrant (sub QuadNode) in which `p` \n",
    "        belongs to\n",
    "        \"\"\"\n",
    "\n",
    "        xMid = qn.geometry.x + qn.geometry.w/2\n",
    "        yMid = qn.geometry.y + qn.geometry.h/2\n",
    "\n",
    "        if p.x < xMid:\n",
    "            if p.y < yMid:\n",
    "                return 0\n",
    "            else:\n",
    "                return 1\n",
    "        else:\n",
    "            if p.y < yMid:\n",
    "                return 2\n",
    "            else:\n",
    "                return 3\n",
    "\n",
    "    def is_leaf(qn) -> bool:\n",
    "        return len(qn.nodes) == 0\n",
    "\n",
    "\n",
    "class QuadSpace:\n",
    "    limit: int\n",
    "    root: QuadNode\n",
    "\n",
    "    def __init__(self, geo: Geometry, limit: int):\n",
    "        self.limit = limit\n",
    "        self.root = QuadNode(geometry=geo, nodes=[], entries=[], level=0)\n",
    "\n",
    "    def split(qs, qn: QuadNode):\n",
    "        \"\"\"\n",
    "        splits `qn` into 4 sub nodes and devides its entries\n",
    "        \"\"\"\n",
    "\n",
    "        x = qn.geometry.x\n",
    "        y = qn.geometry.y\n",
    "        w = qn.geometry.w/2\n",
    "        h = qn.geometry.h/2\n",
    "        l = qn.level + 1\n",
    "\n",
    "        qn.nodes = [\n",
    "            QuadNode(entries=[], nodes=[], geometry=Geometry(\n",
    "                x=x, y=y, w=w, h=h), level=l),\n",
    "            QuadNode(entries=[], nodes=[], geometry=Geometry(\n",
    "                x=x, y=y+h, w=w, h=h), level=l),\n",
    "            QuadNode(entries=[], nodes=[], geometry=Geometry(\n",
    "                x=x+w, y=y, w=w, h=h), level=l),\n",
    "            QuadNode(entries=[], nodes=[], geometry=Geometry(\n",
    "                x=x+w, y=y+h, w=w, h=h), level=l),\n",
    "        ]\n",
    "\n",
    "        for e in qn.entries:\n",
    "            index = qn.which_quadrant(e.location)\n",
    "            qs._insert(qn.nodes[index], e)\n",
    "\n",
    "        qn.entries = []\n",
    "\n",
    "    def insert(self, e: Entry):\n",
    "        self._insert(self.root, e)\n",
    "\n",
    "    def _insert(qs, qn: QuadNode, e: Entry):\n",
    "        if not qn.is_leaf():\n",
    "            index = qn.which_quadrant(e.location)\n",
    "            qs._insert(qn.nodes[index], e)\n",
    "\n",
    "        else:\n",
    "            qn.entries.append(e)\n",
    "\n",
    "            if len(qn.entries) > qs.limit:\n",
    "                qs.split(qn)\n",
    "\n",
    "    def find(qs, query: Geometry, level=-1) -> list:\n",
    "        \"\"\"\n",
    "        if level == -1:\n",
    "            finds \"Point\"s that intersect with query\n",
    "\n",
    "        elif level in 0 .. n:\n",
    "            finds \"QuadNode\"s in depth `level` that intersect with query\n",
    "        \"\"\"\n",
    "\n",
    "        result = []\n",
    "        qs._find(qs.root, query, result, level)\n",
    "        return result\n",
    "\n",
    "    def _find(qs, qn: QuadNode, query: Geometry, acc, level):\n",
    "        if qn.level == level:\n",
    "            acc.append(qn)\n",
    "\n",
    "        for n in qn.nodes:\n",
    "            if n.geometry.intersects(query):\n",
    "                qs._find(n, query, acc, level)\n",
    "\n",
    "        if level == -1:\n",
    "            for e in qn.entries:\n",
    "                if query.contains(e.location):\n",
    "                    acc.append(e)\n",
    "\n",
    "    # --- for sake of visualization\n",
    "\n",
    "    def snapshot(qs, extra=\"\") -> SVG:\n",
    "        return SVG(qs.svgrepr(extra))\n",
    "\n",
    "    def svgrepr(qs, extra) -> str:\n",
    "        \"\"\"\n",
    "        converts QuadSpace `qs` into `.SVG`\n",
    "        \"\"\"\n",
    "\n",
    "        HEADER = f\"\"\"<?xml version=\"1.0\" standalone=\"no\"?>\n",
    "          <svg width=\"{qs.root.geometry.w}\" height=\"{qs.root.geometry.h}\" \n",
    "          version=\"1.1\" xmlns=\"http://www.w3.org/2000/svg\">\n",
    "          <rect x=\"0\" y=\"0\" width=\"{qs.root.geometry.w}\" height=\"{qs.root.geometry.h}\" fill=\"white\"/>\n",
    "        \"\"\"\n",
    "\n",
    "        svg_elements = []\n",
    "        qs._svgrepr(qs.root, svg_elements)\n",
    "\n",
    "        return \"\".join([HEADER, *svg_elements, extra, \"</svg>\"])\n",
    "\n",
    "    def _svgrepr(qs, qn, acc):\n",
    "        for n in qn.nodes:\n",
    "            acc.append(toRect(n.geometry))\n",
    "            qs._svgrepr(n, acc)\n",
    "\n",
    "        for e in qn.entries:\n",
    "            acc.append(toCircle(e.location.x, e.location.y))"
   ]
  },
  {
   "cell_type": "markdown",
   "metadata": {},
   "source": [
    "<div dir=rtl>\n",
    "\n",
    "### کلاس QuadSpace\n",
    "این کلاس اصلی ماست که باهاش سر و کله میزنیم\n",
    "\n",
    "#### دو تا مشخصه داره:\n",
    "1. **مشخصه limit**:\n",
    "     تغداد المان های یک بخش از این مقدار شدن، اون بخش به 4 بخش زیرمجموعه شکسته میشه\n",
    "\n",
    "2. **مشخصه root**:\n",
    "    به ریشه این درخت اشاره میکنه\n",
    "\n",
    "#### و چند تا متد داره:\n",
    "\n",
    "1. **متد سازنده __init__**:\n",
    "    این متد اطلاعات اولیه که شامل اندازه کل صفحه و مقدار حدکثقر هست رو میگیره و ذخیره میکنه\n",
    "\n",
    "2. **متد insert**:\n",
    "    این متد با متد _insert که پایینش تعریف شده کار میکنه.\n",
    "    کارش اضافه کردن یک المان به درخت هست.\n",
    "    \n",
    "    *نحوه عملکرد اول این notebook داده شده*\n",
    "   \n",
    "3. **متد find**:\n",
    "    یک مستطیل و یک عدد به عنوان level در ورودی میگیره\n",
    "\n",
    "    **دو حالت وجود داره:**\n",
    "\n",
    "    - اگر مقدار level برابر با -1 باشه، \n",
    "    توی همه درخت میگرده و نقاطی که توی اون مستطیل هست رو برمیگردونه\n",
    "\n",
    "    - در غیر این صورت\n",
    "    اون گره هایی که با مستطیل داده شده تداخل داشته باشن رو برمیگردونه\n",
    "\n",
    "    *بخاطر تصویر سازی کد تابع رو اینطوری نوشتم، برای شما قسمت دوم کفایت میکنه*\n",
    "\n",
    "4. **متد svgrepr**:\n",
    "    این متد برای تبدیل درخت به فرمت SVG هست\n",
    "\n",
    "5. **متد snapshot**:\n",
    "   یک شئ `SVG` خروجی میده که با Jyputer میشه اونو نشون داد"
   ]
  },
  {
   "cell_type": "markdown",
   "metadata": {},
   "source": [
    "-----------\n",
    "<div dir=rtl>\n",
    "\n",
    "## تئوری بسه!\n",
    "\n",
    "*الآن میخوام همه چیزو به صورت عملی بهتون نشون بدم!*"
   ]
  },
  {
   "cell_type": "code",
   "execution_count": 8,
   "metadata": {},
   "outputs": [],
   "source": [
    "from random import randrange\n",
    "\n",
    "def gen_random_entries(n: int, max_width, max_height) -> list[Entry]:\n",
    "    \"\"\"\n",
    "    Generates `n` random Entries to insert in `QuadSpace`\n",
    "    \"\"\"\n",
    "\n",
    "    result = []\n",
    "\n",
    "    for i in range(n):\n",
    "        x, y = randrange(0, max_width),  randrange(0, max_height)\n",
    "        e = Entry(i, Point(x, y))\n",
    "        result.append(e)\n",
    "\n",
    "    return result\n",
    "\n",
    "\n",
    "def gen_search_process(qs: QuadSpace, query: Geometry) -> list[SVG]:\n",
    "    \"\"\"\n",
    "    Visualizes the step-by-step process of searching in `qs`\n",
    "    \"\"\"\n",
    "\n",
    "    result = []\n",
    "    final_qnodes = []\n",
    "\n",
    "    query_rect = toRect(query, \"rgba(30, 200, 30, 0.3)\")\n",
    "\n",
    "    for n in range(0, 10):\n",
    "        nodes = qs.find(query, n)\n",
    "\n",
    "        ss1 = \"\".join([toRect(n.geometry, \"rgba(0,0,0, 0.3)\")\n",
    "                      for n in final_qnodes])\n",
    "\n",
    "        end = len(nodes) == 0\n",
    "        if end:\n",
    "            points = qs.find(query, -1)\n",
    "            ss2 = \"\".join(\n",
    "                [toCircle(p.location.x, p.location.y, 5, \"purple\") for p in points])\n",
    "        else:\n",
    "            ss2 = \"\".join([toRect(n.geometry, \"rgba(0,0,150,0.3)\")\n",
    "                          for n in nodes])\n",
    "\n",
    "        result.append(qs.snapshot(ss1 + ss2 + query_rect))\n",
    "\n",
    "        if end:\n",
    "            break\n",
    "\n",
    "        for n in nodes:\n",
    "            if n.is_leaf():\n",
    "                final_qnodes.append(n)\n",
    "\n",
    "    return result\n",
    "\n",
    "\n",
    "def gen_add_process(qs: QuadSpace, entries: list[Entry]) -> list[SVG]:\n",
    "    \"\"\"\n",
    "    Visualizes the step-by-step process of inserting to `qs`\n",
    "\n",
    "    The new point in each step is visualized differently\n",
    "    e.g. bolder or different color\n",
    "    \"\"\"\n",
    "\n",
    "    result = []\n",
    "\n",
    "    for e in entries:\n",
    "        qs.insert(e)\n",
    "        newPoint = toCircle(e.location.x, e.location.y, 4, \"purple\")\n",
    "        result.append(qs.snapshot(newPoint))\n",
    "\n",
    "    return result\n"
   ]
  },
  {
   "cell_type": "markdown",
   "metadata": {},
   "source": [
    "<div dir=rtl>\n",
    "\n",
    "- **تابع gen_random_entries**:\n",
    "    تولید n المان در ابعاد max_width و max_height\n",
    "\n",
    "دو تابع برای تصویر سازی تعریف کردم\n",
    "\n",
    "1. **تابع gen_add_process**:\n",
    "    که مراحل اضافه کردن المان به درخت رو نشون میده\n",
    "\n",
    "2. **تابع gen_search_process**:\n",
    "    که مراحل جستجو کردن توی درحت رو نشون میده"
   ]
  },
  {
   "cell_type": "markdown",
   "metadata": {},
   "source": [
    "-------------\n",
    "<div dir=rtl>\n",
    "\n",
    "## خودت انجام بده!\n",
    "\n",
    "پارامتر های هر بخش رو تنظیم کن و روی دکمه اجرا بزن تا نتیجه رو ببینی"
   ]
  },
  {
   "cell_type": "code",
   "execution_count": 9,
   "metadata": {},
   "outputs": [],
   "source": [
    "W = 400\n",
    "H = 400\n",
    "\n",
    "qs = QuadSpace(Geometry(0, 0, W, H), 2)"
   ]
  },
  {
   "cell_type": "markdown",
   "metadata": {},
   "source": [
    "<div dir=rtl>\n",
    "\n",
    "اول ی درخت 4 گانه با اندازه 400 در 400 تعریف کردیم\n",
    "وحداثکر مقدار المان های داخلی رو 2 تعریف کردیم\n"
   ]
  },
  {
   "cell_type": "code",
   "execution_count": 10,
   "metadata": {},
   "outputs": [],
   "source": [
    "from IPython.display import display"
   ]
  },
  {
   "cell_type": "markdown",
   "metadata": {},
   "source": [
    "<div dir=rtl>\n",
    "\n",
    "تیکه کد بالا برای نشون دادن عکس توی Jupyter هست"
   ]
  },
  {
   "cell_type": "markdown",
   "metadata": {},
   "source": [
    "<div dir=rtl>\n",
    "\n",
    "### اضافه کردن"
   ]
  },
  {
   "cell_type": "code",
   "execution_count": 12,
   "metadata": {},
   "outputs": [
    {
     "data": {
      "image/svg+xml": "<svg xmlns=\"http://www.w3.org/2000/svg\" width=\"400\" height=\"400\" version=\"1.1\">\n          <rect x=\"0\" y=\"0\" width=\"400\" height=\"400\" fill=\"white\"/>\n        \n        <circle cx=\"11\" cy=\"146\" r=\"2.4\" fill=\"red\"/>\n    \n        <circle cx=\"11\" cy=\"146\" r=\"4\" fill=\"purple\"/>\n    </svg>",
      "text/plain": [
       "<IPython.core.display.SVG object>"
      ]
     },
     "metadata": {},
     "output_type": "display_data"
    },
    {
     "data": {
      "image/svg+xml": "<svg xmlns=\"http://www.w3.org/2000/svg\" width=\"400\" height=\"400\" version=\"1.1\">\n          <rect x=\"0\" y=\"0\" width=\"400\" height=\"400\" fill=\"white\"/>\n        \n        <circle cx=\"11\" cy=\"146\" r=\"2.4\" fill=\"red\"/>\n    \n        <circle cx=\"111\" cy=\"274\" r=\"2.4\" fill=\"red\"/>\n    \n        <circle cx=\"111\" cy=\"274\" r=\"4\" fill=\"purple\"/>\n    </svg>",
      "text/plain": [
       "<IPython.core.display.SVG object>"
      ]
     },
     "metadata": {},
     "output_type": "display_data"
    },
    {
     "data": {
      "image/svg+xml": "<svg xmlns=\"http://www.w3.org/2000/svg\" width=\"400\" height=\"400\" version=\"1.1\">\n          <rect x=\"0\" y=\"0\" width=\"400\" height=\"400\" fill=\"white\"/>\n        \n        <rect x=\"0\" y=\"0\" width=\"200.0\" height=\"200.0\" stroke=\"black\" fill=\"transparent\" stroke-width=\"1\"/>\n    \n        <circle cx=\"11\" cy=\"146\" r=\"2.4\" fill=\"red\"/>\n    \n        <rect x=\"0\" y=\"200.0\" width=\"200.0\" height=\"200.0\" stroke=\"black\" fill=\"transparent\" stroke-width=\"1\"/>\n    \n        <circle cx=\"111\" cy=\"274\" r=\"2.4\" fill=\"red\"/>\n    \n        <circle cx=\"51\" cy=\"394\" r=\"2.4\" fill=\"red\"/>\n    \n        <rect x=\"200.0\" y=\"0\" width=\"200.0\" height=\"200.0\" stroke=\"black\" fill=\"transparent\" stroke-width=\"1\"/>\n    \n        <rect x=\"200.0\" y=\"200.0\" width=\"200.0\" height=\"200.0\" stroke=\"black\" fill=\"transparent\" stroke-width=\"1\"/>\n    \n        <circle cx=\"51\" cy=\"394\" r=\"4\" fill=\"purple\"/>\n    </svg>",
      "text/plain": [
       "<IPython.core.display.SVG object>"
      ]
     },
     "metadata": {},
     "output_type": "display_data"
    },
    {
     "data": {
      "image/svg+xml": "<svg xmlns=\"http://www.w3.org/2000/svg\" width=\"400\" height=\"400\" version=\"1.1\">\n          <rect x=\"0\" y=\"0\" width=\"400\" height=\"400\" fill=\"white\"/>\n        \n        <rect x=\"0\" y=\"0\" width=\"200.0\" height=\"200.0\" stroke=\"black\" fill=\"transparent\" stroke-width=\"1\"/>\n    \n        <circle cx=\"11\" cy=\"146\" r=\"2.4\" fill=\"red\"/>\n    \n        <rect x=\"0\" y=\"200.0\" width=\"200.0\" height=\"200.0\" stroke=\"black\" fill=\"transparent\" stroke-width=\"1\"/>\n    \n        <circle cx=\"111\" cy=\"274\" r=\"2.4\" fill=\"red\"/>\n    \n        <circle cx=\"51\" cy=\"394\" r=\"2.4\" fill=\"red\"/>\n    \n        <rect x=\"200.0\" y=\"0\" width=\"200.0\" height=\"200.0\" stroke=\"black\" fill=\"transparent\" stroke-width=\"1\"/>\n    \n        <circle cx=\"364\" cy=\"123\" r=\"2.4\" fill=\"red\"/>\n    \n        <rect x=\"200.0\" y=\"200.0\" width=\"200.0\" height=\"200.0\" stroke=\"black\" fill=\"transparent\" stroke-width=\"1\"/>\n    \n        <circle cx=\"364\" cy=\"123\" r=\"4\" fill=\"purple\"/>\n    </svg>",
      "text/plain": [
       "<IPython.core.display.SVG object>"
      ]
     },
     "metadata": {},
     "output_type": "display_data"
    },
    {
     "data": {
      "image/svg+xml": "<svg xmlns=\"http://www.w3.org/2000/svg\" width=\"400\" height=\"400\" version=\"1.1\">\n          <rect x=\"0\" y=\"0\" width=\"400\" height=\"400\" fill=\"white\"/>\n        \n        <rect x=\"0\" y=\"0\" width=\"200.0\" height=\"200.0\" stroke=\"black\" fill=\"transparent\" stroke-width=\"1\"/>\n    \n        <circle cx=\"11\" cy=\"146\" r=\"2.4\" fill=\"red\"/>\n    \n        <rect x=\"0\" y=\"200.0\" width=\"200.0\" height=\"200.0\" stroke=\"black\" fill=\"transparent\" stroke-width=\"1\"/>\n    \n        <circle cx=\"111\" cy=\"274\" r=\"2.4\" fill=\"red\"/>\n    \n        <circle cx=\"51\" cy=\"394\" r=\"2.4\" fill=\"red\"/>\n    \n        <rect x=\"200.0\" y=\"0\" width=\"200.0\" height=\"200.0\" stroke=\"black\" fill=\"transparent\" stroke-width=\"1\"/>\n    \n        <circle cx=\"364\" cy=\"123\" r=\"2.4\" fill=\"red\"/>\n    \n        <circle cx=\"261\" cy=\"28\" r=\"2.4\" fill=\"red\"/>\n    \n        <rect x=\"200.0\" y=\"200.0\" width=\"200.0\" height=\"200.0\" stroke=\"black\" fill=\"transparent\" stroke-width=\"1\"/>\n    \n        <circle cx=\"261\" cy=\"28\" r=\"4\" fill=\"purple\"/>\n    </svg>",
      "text/plain": [
       "<IPython.core.display.SVG object>"
      ]
     },
     "metadata": {},
     "output_type": "display_data"
    },
    {
     "data": {
      "image/svg+xml": "<svg xmlns=\"http://www.w3.org/2000/svg\" width=\"400\" height=\"400\" version=\"1.1\">\n          <rect x=\"0\" y=\"0\" width=\"400\" height=\"400\" fill=\"white\"/>\n        \n        <rect x=\"0\" y=\"0\" width=\"200.0\" height=\"200.0\" stroke=\"black\" fill=\"transparent\" stroke-width=\"1\"/>\n    \n        <circle cx=\"11\" cy=\"146\" r=\"2.4\" fill=\"red\"/>\n    \n        <rect x=\"0\" y=\"200.0\" width=\"200.0\" height=\"200.0\" stroke=\"black\" fill=\"transparent\" stroke-width=\"1\"/>\n    \n        <circle cx=\"111\" cy=\"274\" r=\"2.4\" fill=\"red\"/>\n    \n        <circle cx=\"51\" cy=\"394\" r=\"2.4\" fill=\"red\"/>\n    \n        <rect x=\"200.0\" y=\"0\" width=\"200.0\" height=\"200.0\" stroke=\"black\" fill=\"transparent\" stroke-width=\"1\"/>\n    \n        <rect x=\"200.0\" y=\"0\" width=\"100.0\" height=\"100.0\" stroke=\"black\" fill=\"transparent\" stroke-width=\"1\"/>\n    \n        <circle cx=\"261\" cy=\"28\" r=\"2.4\" fill=\"red\"/>\n    \n        <rect x=\"200.0\" y=\"100.0\" width=\"100.0\" height=\"100.0\" stroke=\"black\" fill=\"transparent\" stroke-width=\"1\"/>\n    \n        <circle cx=\"200\" cy=\"181\" r=\"2.4\" fill=\"red\"/>\n    \n        <rect x=\"300.0\" y=\"0\" width=\"100.0\" height=\"100.0\" stroke=\"black\" fill=\"transparent\" stroke-width=\"1\"/>\n    \n        <rect x=\"300.0\" y=\"100.0\" width=\"100.0\" height=\"100.0\" stroke=\"black\" fill=\"transparent\" stroke-width=\"1\"/>\n    \n        <circle cx=\"364\" cy=\"123\" r=\"2.4\" fill=\"red\"/>\n    \n        <rect x=\"200.0\" y=\"200.0\" width=\"200.0\" height=\"200.0\" stroke=\"black\" fill=\"transparent\" stroke-width=\"1\"/>\n    \n        <circle cx=\"200\" cy=\"181\" r=\"4\" fill=\"purple\"/>\n    </svg>",
      "text/plain": [
       "<IPython.core.display.SVG object>"
      ]
     },
     "metadata": {},
     "output_type": "display_data"
    },
    {
     "data": {
      "image/svg+xml": "<svg xmlns=\"http://www.w3.org/2000/svg\" width=\"400\" height=\"400\" version=\"1.1\">\n          <rect x=\"0\" y=\"0\" width=\"400\" height=\"400\" fill=\"white\"/>\n        \n        <rect x=\"0\" y=\"0\" width=\"200.0\" height=\"200.0\" stroke=\"black\" fill=\"transparent\" stroke-width=\"1\"/>\n    \n        <circle cx=\"11\" cy=\"146\" r=\"2.4\" fill=\"red\"/>\n    \n        <rect x=\"0\" y=\"200.0\" width=\"200.0\" height=\"200.0\" stroke=\"black\" fill=\"transparent\" stroke-width=\"1\"/>\n    \n        <circle cx=\"111\" cy=\"274\" r=\"2.4\" fill=\"red\"/>\n    \n        <circle cx=\"51\" cy=\"394\" r=\"2.4\" fill=\"red\"/>\n    \n        <rect x=\"200.0\" y=\"0\" width=\"200.0\" height=\"200.0\" stroke=\"black\" fill=\"transparent\" stroke-width=\"1\"/>\n    \n        <rect x=\"200.0\" y=\"0\" width=\"100.0\" height=\"100.0\" stroke=\"black\" fill=\"transparent\" stroke-width=\"1\"/>\n    \n        <circle cx=\"261\" cy=\"28\" r=\"2.4\" fill=\"red\"/>\n    \n        <rect x=\"200.0\" y=\"100.0\" width=\"100.0\" height=\"100.0\" stroke=\"black\" fill=\"transparent\" stroke-width=\"1\"/>\n    \n        <circle cx=\"200\" cy=\"181\" r=\"2.4\" fill=\"red\"/>\n    \n        <rect x=\"300.0\" y=\"0\" width=\"100.0\" height=\"100.0\" stroke=\"black\" fill=\"transparent\" stroke-width=\"1\"/>\n    \n        <rect x=\"300.0\" y=\"100.0\" width=\"100.0\" height=\"100.0\" stroke=\"black\" fill=\"transparent\" stroke-width=\"1\"/>\n    \n        <circle cx=\"364\" cy=\"123\" r=\"2.4\" fill=\"red\"/>\n    \n        <rect x=\"200.0\" y=\"200.0\" width=\"200.0\" height=\"200.0\" stroke=\"black\" fill=\"transparent\" stroke-width=\"1\"/>\n    \n        <circle cx=\"221\" cy=\"344\" r=\"2.4\" fill=\"red\"/>\n    \n        <circle cx=\"221\" cy=\"344\" r=\"4\" fill=\"purple\"/>\n    </svg>",
      "text/plain": [
       "<IPython.core.display.SVG object>"
      ]
     },
     "metadata": {},
     "output_type": "display_data"
    },
    {
     "data": {
      "image/svg+xml": "<svg xmlns=\"http://www.w3.org/2000/svg\" width=\"400\" height=\"400\" version=\"1.1\">\n          <rect x=\"0\" y=\"0\" width=\"400\" height=\"400\" fill=\"white\"/>\n        \n        <rect x=\"0\" y=\"0\" width=\"200.0\" height=\"200.0\" stroke=\"black\" fill=\"transparent\" stroke-width=\"1\"/>\n    \n        <circle cx=\"11\" cy=\"146\" r=\"2.4\" fill=\"red\"/>\n    \n        <circle cx=\"13\" cy=\"198\" r=\"2.4\" fill=\"red\"/>\n    \n        <rect x=\"0\" y=\"200.0\" width=\"200.0\" height=\"200.0\" stroke=\"black\" fill=\"transparent\" stroke-width=\"1\"/>\n    \n        <circle cx=\"111\" cy=\"274\" r=\"2.4\" fill=\"red\"/>\n    \n        <circle cx=\"51\" cy=\"394\" r=\"2.4\" fill=\"red\"/>\n    \n        <rect x=\"200.0\" y=\"0\" width=\"200.0\" height=\"200.0\" stroke=\"black\" fill=\"transparent\" stroke-width=\"1\"/>\n    \n        <rect x=\"200.0\" y=\"0\" width=\"100.0\" height=\"100.0\" stroke=\"black\" fill=\"transparent\" stroke-width=\"1\"/>\n    \n        <circle cx=\"261\" cy=\"28\" r=\"2.4\" fill=\"red\"/>\n    \n        <rect x=\"200.0\" y=\"100.0\" width=\"100.0\" height=\"100.0\" stroke=\"black\" fill=\"transparent\" stroke-width=\"1\"/>\n    \n        <circle cx=\"200\" cy=\"181\" r=\"2.4\" fill=\"red\"/>\n    \n        <rect x=\"300.0\" y=\"0\" width=\"100.0\" height=\"100.0\" stroke=\"black\" fill=\"transparent\" stroke-width=\"1\"/>\n    \n        <rect x=\"300.0\" y=\"100.0\" width=\"100.0\" height=\"100.0\" stroke=\"black\" fill=\"transparent\" stroke-width=\"1\"/>\n    \n        <circle cx=\"364\" cy=\"123\" r=\"2.4\" fill=\"red\"/>\n    \n        <rect x=\"200.0\" y=\"200.0\" width=\"200.0\" height=\"200.0\" stroke=\"black\" fill=\"transparent\" stroke-width=\"1\"/>\n    \n        <circle cx=\"221\" cy=\"344\" r=\"2.4\" fill=\"red\"/>\n    \n        <circle cx=\"13\" cy=\"198\" r=\"4\" fill=\"purple\"/>\n    </svg>",
      "text/plain": [
       "<IPython.core.display.SVG object>"
      ]
     },
     "metadata": {},
     "output_type": "display_data"
    },
    {
     "data": {
      "image/svg+xml": "<svg xmlns=\"http://www.w3.org/2000/svg\" width=\"400\" height=\"400\" version=\"1.1\">\n          <rect x=\"0\" y=\"0\" width=\"400\" height=\"400\" fill=\"white\"/>\n        \n        <rect x=\"0\" y=\"0\" width=\"200.0\" height=\"200.0\" stroke=\"black\" fill=\"transparent\" stroke-width=\"1\"/>\n    \n        <circle cx=\"11\" cy=\"146\" r=\"2.4\" fill=\"red\"/>\n    \n        <circle cx=\"13\" cy=\"198\" r=\"2.4\" fill=\"red\"/>\n    \n        <rect x=\"0\" y=\"200.0\" width=\"200.0\" height=\"200.0\" stroke=\"black\" fill=\"transparent\" stroke-width=\"1\"/>\n    \n        <circle cx=\"111\" cy=\"274\" r=\"2.4\" fill=\"red\"/>\n    \n        <circle cx=\"51\" cy=\"394\" r=\"2.4\" fill=\"red\"/>\n    \n        <rect x=\"200.0\" y=\"0\" width=\"200.0\" height=\"200.0\" stroke=\"black\" fill=\"transparent\" stroke-width=\"1\"/>\n    \n        <rect x=\"200.0\" y=\"0\" width=\"100.0\" height=\"100.0\" stroke=\"black\" fill=\"transparent\" stroke-width=\"1\"/>\n    \n        <circle cx=\"261\" cy=\"28\" r=\"2.4\" fill=\"red\"/>\n    \n        <rect x=\"200.0\" y=\"100.0\" width=\"100.0\" height=\"100.0\" stroke=\"black\" fill=\"transparent\" stroke-width=\"1\"/>\n    \n        <circle cx=\"200\" cy=\"181\" r=\"2.4\" fill=\"red\"/>\n    \n        <circle cx=\"272\" cy=\"114\" r=\"2.4\" fill=\"red\"/>\n    \n        <rect x=\"300.0\" y=\"0\" width=\"100.0\" height=\"100.0\" stroke=\"black\" fill=\"transparent\" stroke-width=\"1\"/>\n    \n        <rect x=\"300.0\" y=\"100.0\" width=\"100.0\" height=\"100.0\" stroke=\"black\" fill=\"transparent\" stroke-width=\"1\"/>\n    \n        <circle cx=\"364\" cy=\"123\" r=\"2.4\" fill=\"red\"/>\n    \n        <rect x=\"200.0\" y=\"200.0\" width=\"200.0\" height=\"200.0\" stroke=\"black\" fill=\"transparent\" stroke-width=\"1\"/>\n    \n        <circle cx=\"221\" cy=\"344\" r=\"2.4\" fill=\"red\"/>\n    \n        <circle cx=\"272\" cy=\"114\" r=\"4\" fill=\"purple\"/>\n    </svg>",
      "text/plain": [
       "<IPython.core.display.SVG object>"
      ]
     },
     "metadata": {},
     "output_type": "display_data"
    },
    {
     "data": {
      "image/svg+xml": "<svg xmlns=\"http://www.w3.org/2000/svg\" width=\"400\" height=\"400\" version=\"1.1\">\n          <rect x=\"0\" y=\"0\" width=\"400\" height=\"400\" fill=\"white\"/>\n        \n        <rect x=\"0\" y=\"0\" width=\"200.0\" height=\"200.0\" stroke=\"black\" fill=\"transparent\" stroke-width=\"1\"/>\n    \n        <circle cx=\"11\" cy=\"146\" r=\"2.4\" fill=\"red\"/>\n    \n        <circle cx=\"13\" cy=\"198\" r=\"2.4\" fill=\"red\"/>\n    \n        <rect x=\"0\" y=\"200.0\" width=\"200.0\" height=\"200.0\" stroke=\"black\" fill=\"transparent\" stroke-width=\"1\"/>\n    \n        <rect x=\"0\" y=\"200.0\" width=\"100.0\" height=\"100.0\" stroke=\"black\" fill=\"transparent\" stroke-width=\"1\"/>\n    \n        <circle cx=\"23\" cy=\"281\" r=\"2.4\" fill=\"red\"/>\n    \n        <rect x=\"0\" y=\"300.0\" width=\"100.0\" height=\"100.0\" stroke=\"black\" fill=\"transparent\" stroke-width=\"1\"/>\n    \n        <circle cx=\"51\" cy=\"394\" r=\"2.4\" fill=\"red\"/>\n    \n        <rect x=\"100.0\" y=\"200.0\" width=\"100.0\" height=\"100.0\" stroke=\"black\" fill=\"transparent\" stroke-width=\"1\"/>\n    \n        <circle cx=\"111\" cy=\"274\" r=\"2.4\" fill=\"red\"/>\n    \n        <rect x=\"100.0\" y=\"300.0\" width=\"100.0\" height=\"100.0\" stroke=\"black\" fill=\"transparent\" stroke-width=\"1\"/>\n    \n        <rect x=\"200.0\" y=\"0\" width=\"200.0\" height=\"200.0\" stroke=\"black\" fill=\"transparent\" stroke-width=\"1\"/>\n    \n        <rect x=\"200.0\" y=\"0\" width=\"100.0\" height=\"100.0\" stroke=\"black\" fill=\"transparent\" stroke-width=\"1\"/>\n    \n        <circle cx=\"261\" cy=\"28\" r=\"2.4\" fill=\"red\"/>\n    \n        <rect x=\"200.0\" y=\"100.0\" width=\"100.0\" height=\"100.0\" stroke=\"black\" fill=\"transparent\" stroke-width=\"1\"/>\n    \n        <circle cx=\"200\" cy=\"181\" r=\"2.4\" fill=\"red\"/>\n    \n        <circle cx=\"272\" cy=\"114\" r=\"2.4\" fill=\"red\"/>\n    \n        <rect x=\"300.0\" y=\"0\" width=\"100.0\" height=\"100.0\" stroke=\"black\" fill=\"transparent\" stroke-width=\"1\"/>\n    \n        <rect x=\"300.0\" y=\"100.0\" width=\"100.0\" height=\"100.0\" stroke=\"black\" fill=\"transparent\" stroke-width=\"1\"/>\n    \n        <circle cx=\"364\" cy=\"123\" r=\"2.4\" fill=\"red\"/>\n    \n        <rect x=\"200.0\" y=\"200.0\" width=\"200.0\" height=\"200.0\" stroke=\"black\" fill=\"transparent\" stroke-width=\"1\"/>\n    \n        <circle cx=\"221\" cy=\"344\" r=\"2.4\" fill=\"red\"/>\n    \n        <circle cx=\"23\" cy=\"281\" r=\"4\" fill=\"purple\"/>\n    </svg>",
      "text/plain": [
       "<IPython.core.display.SVG object>"
      ]
     },
     "metadata": {},
     "output_type": "display_data"
    },
    {
     "data": {
      "image/svg+xml": "<svg xmlns=\"http://www.w3.org/2000/svg\" width=\"400\" height=\"400\" version=\"1.1\">\n          <rect x=\"0\" y=\"0\" width=\"400\" height=\"400\" fill=\"white\"/>\n        \n        <rect x=\"0\" y=\"0\" width=\"200.0\" height=\"200.0\" stroke=\"black\" fill=\"transparent\" stroke-width=\"1\"/>\n    \n        <rect x=\"0\" y=\"0\" width=\"100.0\" height=\"100.0\" stroke=\"black\" fill=\"transparent\" stroke-width=\"1\"/>\n    \n        <rect x=\"0\" y=\"100.0\" width=\"100.0\" height=\"100.0\" stroke=\"black\" fill=\"transparent\" stroke-width=\"1\"/>\n    \n        <rect x=\"0\" y=\"100.0\" width=\"50.0\" height=\"50.0\" stroke=\"black\" fill=\"transparent\" stroke-width=\"1\"/>\n    \n        <circle cx=\"11\" cy=\"146\" r=\"2.4\" fill=\"red\"/>\n    \n        <rect x=\"0\" y=\"150.0\" width=\"50.0\" height=\"50.0\" stroke=\"black\" fill=\"transparent\" stroke-width=\"1\"/>\n    \n        <circle cx=\"13\" cy=\"198\" r=\"2.4\" fill=\"red\"/>\n    \n        <rect x=\"50.0\" y=\"100.0\" width=\"50.0\" height=\"50.0\" stroke=\"black\" fill=\"transparent\" stroke-width=\"1\"/>\n    \n        <rect x=\"50.0\" y=\"150.0\" width=\"50.0\" height=\"50.0\" stroke=\"black\" fill=\"transparent\" stroke-width=\"1\"/>\n    \n        <circle cx=\"50\" cy=\"154\" r=\"2.4\" fill=\"red\"/>\n    \n        <rect x=\"100.0\" y=\"0\" width=\"100.0\" height=\"100.0\" stroke=\"black\" fill=\"transparent\" stroke-width=\"1\"/>\n    \n        <rect x=\"100.0\" y=\"100.0\" width=\"100.0\" height=\"100.0\" stroke=\"black\" fill=\"transparent\" stroke-width=\"1\"/>\n    \n        <rect x=\"0\" y=\"200.0\" width=\"200.0\" height=\"200.0\" stroke=\"black\" fill=\"transparent\" stroke-width=\"1\"/>\n    \n        <rect x=\"0\" y=\"200.0\" width=\"100.0\" height=\"100.0\" stroke=\"black\" fill=\"transparent\" stroke-width=\"1\"/>\n    \n        <circle cx=\"23\" cy=\"281\" r=\"2.4\" fill=\"red\"/>\n    \n        <rect x=\"0\" y=\"300.0\" width=\"100.0\" height=\"100.0\" stroke=\"black\" fill=\"transparent\" stroke-width=\"1\"/>\n    \n        <circle cx=\"51\" cy=\"394\" r=\"2.4\" fill=\"red\"/>\n    \n        <rect x=\"100.0\" y=\"200.0\" width=\"100.0\" height=\"100.0\" stroke=\"black\" fill=\"transparent\" stroke-width=\"1\"/>\n    \n        <circle cx=\"111\" cy=\"274\" r=\"2.4\" fill=\"red\"/>\n    \n        <rect x=\"100.0\" y=\"300.0\" width=\"100.0\" height=\"100.0\" stroke=\"black\" fill=\"transparent\" stroke-width=\"1\"/>\n    \n        <rect x=\"200.0\" y=\"0\" width=\"200.0\" height=\"200.0\" stroke=\"black\" fill=\"transparent\" stroke-width=\"1\"/>\n    \n        <rect x=\"200.0\" y=\"0\" width=\"100.0\" height=\"100.0\" stroke=\"black\" fill=\"transparent\" stroke-width=\"1\"/>\n    \n        <circle cx=\"261\" cy=\"28\" r=\"2.4\" fill=\"red\"/>\n    \n        <rect x=\"200.0\" y=\"100.0\" width=\"100.0\" height=\"100.0\" stroke=\"black\" fill=\"transparent\" stroke-width=\"1\"/>\n    \n        <circle cx=\"200\" cy=\"181\" r=\"2.4\" fill=\"red\"/>\n    \n        <circle cx=\"272\" cy=\"114\" r=\"2.4\" fill=\"red\"/>\n    \n        <rect x=\"300.0\" y=\"0\" width=\"100.0\" height=\"100.0\" stroke=\"black\" fill=\"transparent\" stroke-width=\"1\"/>\n    \n        <rect x=\"300.0\" y=\"100.0\" width=\"100.0\" height=\"100.0\" stroke=\"black\" fill=\"transparent\" stroke-width=\"1\"/>\n    \n        <circle cx=\"364\" cy=\"123\" r=\"2.4\" fill=\"red\"/>\n    \n        <rect x=\"200.0\" y=\"200.0\" width=\"200.0\" height=\"200.0\" stroke=\"black\" fill=\"transparent\" stroke-width=\"1\"/>\n    \n        <circle cx=\"221\" cy=\"344\" r=\"2.4\" fill=\"red\"/>\n    \n        <circle cx=\"50\" cy=\"154\" r=\"4\" fill=\"purple\"/>\n    </svg>",
      "text/plain": [
       "<IPython.core.display.SVG object>"
      ]
     },
     "metadata": {},
     "output_type": "display_data"
    },
    {
     "data": {
      "image/svg+xml": "<svg xmlns=\"http://www.w3.org/2000/svg\" width=\"400\" height=\"400\" version=\"1.1\">\n          <rect x=\"0\" y=\"0\" width=\"400\" height=\"400\" fill=\"white\"/>\n        \n        <rect x=\"0\" y=\"0\" width=\"200.0\" height=\"200.0\" stroke=\"black\" fill=\"transparent\" stroke-width=\"1\"/>\n    \n        <rect x=\"0\" y=\"0\" width=\"100.0\" height=\"100.0\" stroke=\"black\" fill=\"transparent\" stroke-width=\"1\"/>\n    \n        <rect x=\"0\" y=\"100.0\" width=\"100.0\" height=\"100.0\" stroke=\"black\" fill=\"transparent\" stroke-width=\"1\"/>\n    \n        <rect x=\"0\" y=\"100.0\" width=\"50.0\" height=\"50.0\" stroke=\"black\" fill=\"transparent\" stroke-width=\"1\"/>\n    \n        <circle cx=\"11\" cy=\"146\" r=\"2.4\" fill=\"red\"/>\n    \n        <rect x=\"0\" y=\"150.0\" width=\"50.0\" height=\"50.0\" stroke=\"black\" fill=\"transparent\" stroke-width=\"1\"/>\n    \n        <circle cx=\"13\" cy=\"198\" r=\"2.4\" fill=\"red\"/>\n    \n        <rect x=\"50.0\" y=\"100.0\" width=\"50.0\" height=\"50.0\" stroke=\"black\" fill=\"transparent\" stroke-width=\"1\"/>\n    \n        <rect x=\"50.0\" y=\"150.0\" width=\"50.0\" height=\"50.0\" stroke=\"black\" fill=\"transparent\" stroke-width=\"1\"/>\n    \n        <circle cx=\"50\" cy=\"154\" r=\"2.4\" fill=\"red\"/>\n    \n        <rect x=\"100.0\" y=\"0\" width=\"100.0\" height=\"100.0\" stroke=\"black\" fill=\"transparent\" stroke-width=\"1\"/>\n    \n        <rect x=\"100.0\" y=\"100.0\" width=\"100.0\" height=\"100.0\" stroke=\"black\" fill=\"transparent\" stroke-width=\"1\"/>\n    \n        <rect x=\"0\" y=\"200.0\" width=\"200.0\" height=\"200.0\" stroke=\"black\" fill=\"transparent\" stroke-width=\"1\"/>\n    \n        <rect x=\"0\" y=\"200.0\" width=\"100.0\" height=\"100.0\" stroke=\"black\" fill=\"transparent\" stroke-width=\"1\"/>\n    \n        <circle cx=\"23\" cy=\"281\" r=\"2.4\" fill=\"red\"/>\n    \n        <rect x=\"0\" y=\"300.0\" width=\"100.0\" height=\"100.0\" stroke=\"black\" fill=\"transparent\" stroke-width=\"1\"/>\n    \n        <circle cx=\"51\" cy=\"394\" r=\"2.4\" fill=\"red\"/>\n    \n        <circle cx=\"17\" cy=\"394\" r=\"2.4\" fill=\"red\"/>\n    \n        <rect x=\"100.0\" y=\"200.0\" width=\"100.0\" height=\"100.0\" stroke=\"black\" fill=\"transparent\" stroke-width=\"1\"/>\n    \n        <circle cx=\"111\" cy=\"274\" r=\"2.4\" fill=\"red\"/>\n    \n        <rect x=\"100.0\" y=\"300.0\" width=\"100.0\" height=\"100.0\" stroke=\"black\" fill=\"transparent\" stroke-width=\"1\"/>\n    \n        <rect x=\"200.0\" y=\"0\" width=\"200.0\" height=\"200.0\" stroke=\"black\" fill=\"transparent\" stroke-width=\"1\"/>\n    \n        <rect x=\"200.0\" y=\"0\" width=\"100.0\" height=\"100.0\" stroke=\"black\" fill=\"transparent\" stroke-width=\"1\"/>\n    \n        <circle cx=\"261\" cy=\"28\" r=\"2.4\" fill=\"red\"/>\n    \n        <rect x=\"200.0\" y=\"100.0\" width=\"100.0\" height=\"100.0\" stroke=\"black\" fill=\"transparent\" stroke-width=\"1\"/>\n    \n        <circle cx=\"200\" cy=\"181\" r=\"2.4\" fill=\"red\"/>\n    \n        <circle cx=\"272\" cy=\"114\" r=\"2.4\" fill=\"red\"/>\n    \n        <rect x=\"300.0\" y=\"0\" width=\"100.0\" height=\"100.0\" stroke=\"black\" fill=\"transparent\" stroke-width=\"1\"/>\n    \n        <rect x=\"300.0\" y=\"100.0\" width=\"100.0\" height=\"100.0\" stroke=\"black\" fill=\"transparent\" stroke-width=\"1\"/>\n    \n        <circle cx=\"364\" cy=\"123\" r=\"2.4\" fill=\"red\"/>\n    \n        <rect x=\"200.0\" y=\"200.0\" width=\"200.0\" height=\"200.0\" stroke=\"black\" fill=\"transparent\" stroke-width=\"1\"/>\n    \n        <circle cx=\"221\" cy=\"344\" r=\"2.4\" fill=\"red\"/>\n    \n        <circle cx=\"17\" cy=\"394\" r=\"4\" fill=\"purple\"/>\n    </svg>",
      "text/plain": [
       "<IPython.core.display.SVG object>"
      ]
     },
     "metadata": {},
     "output_type": "display_data"
    },
    {
     "data": {
      "image/svg+xml": "<svg xmlns=\"http://www.w3.org/2000/svg\" width=\"400\" height=\"400\" version=\"1.1\">\n          <rect x=\"0\" y=\"0\" width=\"400\" height=\"400\" fill=\"white\"/>\n        \n        <rect x=\"0\" y=\"0\" width=\"200.0\" height=\"200.0\" stroke=\"black\" fill=\"transparent\" stroke-width=\"1\"/>\n    \n        <rect x=\"0\" y=\"0\" width=\"100.0\" height=\"100.0\" stroke=\"black\" fill=\"transparent\" stroke-width=\"1\"/>\n    \n        <rect x=\"0\" y=\"100.0\" width=\"100.0\" height=\"100.0\" stroke=\"black\" fill=\"transparent\" stroke-width=\"1\"/>\n    \n        <rect x=\"0\" y=\"100.0\" width=\"50.0\" height=\"50.0\" stroke=\"black\" fill=\"transparent\" stroke-width=\"1\"/>\n    \n        <circle cx=\"11\" cy=\"146\" r=\"2.4\" fill=\"red\"/>\n    \n        <rect x=\"0\" y=\"150.0\" width=\"50.0\" height=\"50.0\" stroke=\"black\" fill=\"transparent\" stroke-width=\"1\"/>\n    \n        <circle cx=\"13\" cy=\"198\" r=\"2.4\" fill=\"red\"/>\n    \n        <rect x=\"50.0\" y=\"100.0\" width=\"50.0\" height=\"50.0\" stroke=\"black\" fill=\"transparent\" stroke-width=\"1\"/>\n    \n        <rect x=\"50.0\" y=\"150.0\" width=\"50.0\" height=\"50.0\" stroke=\"black\" fill=\"transparent\" stroke-width=\"1\"/>\n    \n        <circle cx=\"50\" cy=\"154\" r=\"2.4\" fill=\"red\"/>\n    \n        <rect x=\"100.0\" y=\"0\" width=\"100.0\" height=\"100.0\" stroke=\"black\" fill=\"transparent\" stroke-width=\"1\"/>\n    \n        <rect x=\"100.0\" y=\"100.0\" width=\"100.0\" height=\"100.0\" stroke=\"black\" fill=\"transparent\" stroke-width=\"1\"/>\n    \n        <rect x=\"0\" y=\"200.0\" width=\"200.0\" height=\"200.0\" stroke=\"black\" fill=\"transparent\" stroke-width=\"1\"/>\n    \n        <rect x=\"0\" y=\"200.0\" width=\"100.0\" height=\"100.0\" stroke=\"black\" fill=\"transparent\" stroke-width=\"1\"/>\n    \n        <circle cx=\"23\" cy=\"281\" r=\"2.4\" fill=\"red\"/>\n    \n        <rect x=\"0\" y=\"300.0\" width=\"100.0\" height=\"100.0\" stroke=\"black\" fill=\"transparent\" stroke-width=\"1\"/>\n    \n        <circle cx=\"51\" cy=\"394\" r=\"2.4\" fill=\"red\"/>\n    \n        <circle cx=\"17\" cy=\"394\" r=\"2.4\" fill=\"red\"/>\n    \n        <rect x=\"100.0\" y=\"200.0\" width=\"100.0\" height=\"100.0\" stroke=\"black\" fill=\"transparent\" stroke-width=\"1\"/>\n    \n        <circle cx=\"111\" cy=\"274\" r=\"2.4\" fill=\"red\"/>\n    \n        <rect x=\"100.0\" y=\"300.0\" width=\"100.0\" height=\"100.0\" stroke=\"black\" fill=\"transparent\" stroke-width=\"1\"/>\n    \n        <rect x=\"200.0\" y=\"0\" width=\"200.0\" height=\"200.0\" stroke=\"black\" fill=\"transparent\" stroke-width=\"1\"/>\n    \n        <rect x=\"200.0\" y=\"0\" width=\"100.0\" height=\"100.0\" stroke=\"black\" fill=\"transparent\" stroke-width=\"1\"/>\n    \n        <circle cx=\"261\" cy=\"28\" r=\"2.4\" fill=\"red\"/>\n    \n        <rect x=\"200.0\" y=\"100.0\" width=\"100.0\" height=\"100.0\" stroke=\"black\" fill=\"transparent\" stroke-width=\"1\"/>\n    \n        <rect x=\"200.0\" y=\"100.0\" width=\"50.0\" height=\"50.0\" stroke=\"black\" fill=\"transparent\" stroke-width=\"1\"/>\n    \n        <rect x=\"200.0\" y=\"150.0\" width=\"50.0\" height=\"50.0\" stroke=\"black\" fill=\"transparent\" stroke-width=\"1\"/>\n    \n        <circle cx=\"200\" cy=\"181\" r=\"2.4\" fill=\"red\"/>\n    \n        <rect x=\"250.0\" y=\"100.0\" width=\"50.0\" height=\"50.0\" stroke=\"black\" fill=\"transparent\" stroke-width=\"1\"/>\n    \n        <circle cx=\"272\" cy=\"114\" r=\"2.4\" fill=\"red\"/>\n    \n        <rect x=\"250.0\" y=\"150.0\" width=\"50.0\" height=\"50.0\" stroke=\"black\" fill=\"transparent\" stroke-width=\"1\"/>\n    \n        <circle cx=\"260\" cy=\"157\" r=\"2.4\" fill=\"red\"/>\n    \n        <rect x=\"300.0\" y=\"0\" width=\"100.0\" height=\"100.0\" stroke=\"black\" fill=\"transparent\" stroke-width=\"1\"/>\n    \n        <rect x=\"300.0\" y=\"100.0\" width=\"100.0\" height=\"100.0\" stroke=\"black\" fill=\"transparent\" stroke-width=\"1\"/>\n    \n        <circle cx=\"364\" cy=\"123\" r=\"2.4\" fill=\"red\"/>\n    \n        <rect x=\"200.0\" y=\"200.0\" width=\"200.0\" height=\"200.0\" stroke=\"black\" fill=\"transparent\" stroke-width=\"1\"/>\n    \n        <circle cx=\"221\" cy=\"344\" r=\"2.4\" fill=\"red\"/>\n    \n        <circle cx=\"260\" cy=\"157\" r=\"4\" fill=\"purple\"/>\n    </svg>",
      "text/plain": [
       "<IPython.core.display.SVG object>"
      ]
     },
     "metadata": {},
     "output_type": "display_data"
    },
    {
     "data": {
      "image/svg+xml": "<svg xmlns=\"http://www.w3.org/2000/svg\" width=\"400\" height=\"400\" version=\"1.1\">\n          <rect x=\"0\" y=\"0\" width=\"400\" height=\"400\" fill=\"white\"/>\n        \n        <rect x=\"0\" y=\"0\" width=\"200.0\" height=\"200.0\" stroke=\"black\" fill=\"transparent\" stroke-width=\"1\"/>\n    \n        <rect x=\"0\" y=\"0\" width=\"100.0\" height=\"100.0\" stroke=\"black\" fill=\"transparent\" stroke-width=\"1\"/>\n    \n        <rect x=\"0\" y=\"100.0\" width=\"100.0\" height=\"100.0\" stroke=\"black\" fill=\"transparent\" stroke-width=\"1\"/>\n    \n        <rect x=\"0\" y=\"100.0\" width=\"50.0\" height=\"50.0\" stroke=\"black\" fill=\"transparent\" stroke-width=\"1\"/>\n    \n        <circle cx=\"11\" cy=\"146\" r=\"2.4\" fill=\"red\"/>\n    \n        <rect x=\"0\" y=\"150.0\" width=\"50.0\" height=\"50.0\" stroke=\"black\" fill=\"transparent\" stroke-width=\"1\"/>\n    \n        <circle cx=\"13\" cy=\"198\" r=\"2.4\" fill=\"red\"/>\n    \n        <rect x=\"50.0\" y=\"100.0\" width=\"50.0\" height=\"50.0\" stroke=\"black\" fill=\"transparent\" stroke-width=\"1\"/>\n    \n        <rect x=\"50.0\" y=\"150.0\" width=\"50.0\" height=\"50.0\" stroke=\"black\" fill=\"transparent\" stroke-width=\"1\"/>\n    \n        <circle cx=\"50\" cy=\"154\" r=\"2.4\" fill=\"red\"/>\n    \n        <rect x=\"100.0\" y=\"0\" width=\"100.0\" height=\"100.0\" stroke=\"black\" fill=\"transparent\" stroke-width=\"1\"/>\n    \n        <rect x=\"100.0\" y=\"100.0\" width=\"100.0\" height=\"100.0\" stroke=\"black\" fill=\"transparent\" stroke-width=\"1\"/>\n    \n        <rect x=\"0\" y=\"200.0\" width=\"200.0\" height=\"200.0\" stroke=\"black\" fill=\"transparent\" stroke-width=\"1\"/>\n    \n        <rect x=\"0\" y=\"200.0\" width=\"100.0\" height=\"100.0\" stroke=\"black\" fill=\"transparent\" stroke-width=\"1\"/>\n    \n        <circle cx=\"23\" cy=\"281\" r=\"2.4\" fill=\"red\"/>\n    \n        <rect x=\"0\" y=\"300.0\" width=\"100.0\" height=\"100.0\" stroke=\"black\" fill=\"transparent\" stroke-width=\"1\"/>\n    \n        <circle cx=\"51\" cy=\"394\" r=\"2.4\" fill=\"red\"/>\n    \n        <circle cx=\"17\" cy=\"394\" r=\"2.4\" fill=\"red\"/>\n    \n        <rect x=\"100.0\" y=\"200.0\" width=\"100.0\" height=\"100.0\" stroke=\"black\" fill=\"transparent\" stroke-width=\"1\"/>\n    \n        <circle cx=\"111\" cy=\"274\" r=\"2.4\" fill=\"red\"/>\n    \n        <rect x=\"100.0\" y=\"300.0\" width=\"100.0\" height=\"100.0\" stroke=\"black\" fill=\"transparent\" stroke-width=\"1\"/>\n    \n        <rect x=\"200.0\" y=\"0\" width=\"200.0\" height=\"200.0\" stroke=\"black\" fill=\"transparent\" stroke-width=\"1\"/>\n    \n        <rect x=\"200.0\" y=\"0\" width=\"100.0\" height=\"100.0\" stroke=\"black\" fill=\"transparent\" stroke-width=\"1\"/>\n    \n        <circle cx=\"261\" cy=\"28\" r=\"2.4\" fill=\"red\"/>\n    \n        <rect x=\"200.0\" y=\"100.0\" width=\"100.0\" height=\"100.0\" stroke=\"black\" fill=\"transparent\" stroke-width=\"1\"/>\n    \n        <rect x=\"200.0\" y=\"100.0\" width=\"50.0\" height=\"50.0\" stroke=\"black\" fill=\"transparent\" stroke-width=\"1\"/>\n    \n        <rect x=\"200.0\" y=\"150.0\" width=\"50.0\" height=\"50.0\" stroke=\"black\" fill=\"transparent\" stroke-width=\"1\"/>\n    \n        <circle cx=\"200\" cy=\"181\" r=\"2.4\" fill=\"red\"/>\n    \n        <rect x=\"250.0\" y=\"100.0\" width=\"50.0\" height=\"50.0\" stroke=\"black\" fill=\"transparent\" stroke-width=\"1\"/>\n    \n        <circle cx=\"272\" cy=\"114\" r=\"2.4\" fill=\"red\"/>\n    \n        <rect x=\"250.0\" y=\"150.0\" width=\"50.0\" height=\"50.0\" stroke=\"black\" fill=\"transparent\" stroke-width=\"1\"/>\n    \n        <circle cx=\"260\" cy=\"157\" r=\"2.4\" fill=\"red\"/>\n    \n        <rect x=\"300.0\" y=\"0\" width=\"100.0\" height=\"100.0\" stroke=\"black\" fill=\"transparent\" stroke-width=\"1\"/>\n    \n        <circle cx=\"355\" cy=\"37\" r=\"2.4\" fill=\"red\"/>\n    \n        <rect x=\"300.0\" y=\"100.0\" width=\"100.0\" height=\"100.0\" stroke=\"black\" fill=\"transparent\" stroke-width=\"1\"/>\n    \n        <circle cx=\"364\" cy=\"123\" r=\"2.4\" fill=\"red\"/>\n    \n        <rect x=\"200.0\" y=\"200.0\" width=\"200.0\" height=\"200.0\" stroke=\"black\" fill=\"transparent\" stroke-width=\"1\"/>\n    \n        <circle cx=\"221\" cy=\"344\" r=\"2.4\" fill=\"red\"/>\n    \n        <circle cx=\"355\" cy=\"37\" r=\"4\" fill=\"purple\"/>\n    </svg>",
      "text/plain": [
       "<IPython.core.display.SVG object>"
      ]
     },
     "metadata": {},
     "output_type": "display_data"
    },
    {
     "data": {
      "image/svg+xml": "<svg xmlns=\"http://www.w3.org/2000/svg\" width=\"400\" height=\"400\" version=\"1.1\">\n          <rect x=\"0\" y=\"0\" width=\"400\" height=\"400\" fill=\"white\"/>\n        \n        <rect x=\"0\" y=\"0\" width=\"200.0\" height=\"200.0\" stroke=\"black\" fill=\"transparent\" stroke-width=\"1\"/>\n    \n        <rect x=\"0\" y=\"0\" width=\"100.0\" height=\"100.0\" stroke=\"black\" fill=\"transparent\" stroke-width=\"1\"/>\n    \n        <rect x=\"0\" y=\"100.0\" width=\"100.0\" height=\"100.0\" stroke=\"black\" fill=\"transparent\" stroke-width=\"1\"/>\n    \n        <rect x=\"0\" y=\"100.0\" width=\"50.0\" height=\"50.0\" stroke=\"black\" fill=\"transparent\" stroke-width=\"1\"/>\n    \n        <circle cx=\"11\" cy=\"146\" r=\"2.4\" fill=\"red\"/>\n    \n        <rect x=\"0\" y=\"150.0\" width=\"50.0\" height=\"50.0\" stroke=\"black\" fill=\"transparent\" stroke-width=\"1\"/>\n    \n        <circle cx=\"13\" cy=\"198\" r=\"2.4\" fill=\"red\"/>\n    \n        <rect x=\"50.0\" y=\"100.0\" width=\"50.0\" height=\"50.0\" stroke=\"black\" fill=\"transparent\" stroke-width=\"1\"/>\n    \n        <rect x=\"50.0\" y=\"150.0\" width=\"50.0\" height=\"50.0\" stroke=\"black\" fill=\"transparent\" stroke-width=\"1\"/>\n    \n        <circle cx=\"50\" cy=\"154\" r=\"2.4\" fill=\"red\"/>\n    \n        <rect x=\"100.0\" y=\"0\" width=\"100.0\" height=\"100.0\" stroke=\"black\" fill=\"transparent\" stroke-width=\"1\"/>\n    \n        <circle cx=\"157\" cy=\"49\" r=\"2.4\" fill=\"red\"/>\n    \n        <rect x=\"100.0\" y=\"100.0\" width=\"100.0\" height=\"100.0\" stroke=\"black\" fill=\"transparent\" stroke-width=\"1\"/>\n    \n        <rect x=\"0\" y=\"200.0\" width=\"200.0\" height=\"200.0\" stroke=\"black\" fill=\"transparent\" stroke-width=\"1\"/>\n    \n        <rect x=\"0\" y=\"200.0\" width=\"100.0\" height=\"100.0\" stroke=\"black\" fill=\"transparent\" stroke-width=\"1\"/>\n    \n        <circle cx=\"23\" cy=\"281\" r=\"2.4\" fill=\"red\"/>\n    \n        <rect x=\"0\" y=\"300.0\" width=\"100.0\" height=\"100.0\" stroke=\"black\" fill=\"transparent\" stroke-width=\"1\"/>\n    \n        <circle cx=\"51\" cy=\"394\" r=\"2.4\" fill=\"red\"/>\n    \n        <circle cx=\"17\" cy=\"394\" r=\"2.4\" fill=\"red\"/>\n    \n        <rect x=\"100.0\" y=\"200.0\" width=\"100.0\" height=\"100.0\" stroke=\"black\" fill=\"transparent\" stroke-width=\"1\"/>\n    \n        <circle cx=\"111\" cy=\"274\" r=\"2.4\" fill=\"red\"/>\n    \n        <rect x=\"100.0\" y=\"300.0\" width=\"100.0\" height=\"100.0\" stroke=\"black\" fill=\"transparent\" stroke-width=\"1\"/>\n    \n        <rect x=\"200.0\" y=\"0\" width=\"200.0\" height=\"200.0\" stroke=\"black\" fill=\"transparent\" stroke-width=\"1\"/>\n    \n        <rect x=\"200.0\" y=\"0\" width=\"100.0\" height=\"100.0\" stroke=\"black\" fill=\"transparent\" stroke-width=\"1\"/>\n    \n        <circle cx=\"261\" cy=\"28\" r=\"2.4\" fill=\"red\"/>\n    \n        <rect x=\"200.0\" y=\"100.0\" width=\"100.0\" height=\"100.0\" stroke=\"black\" fill=\"transparent\" stroke-width=\"1\"/>\n    \n        <rect x=\"200.0\" y=\"100.0\" width=\"50.0\" height=\"50.0\" stroke=\"black\" fill=\"transparent\" stroke-width=\"1\"/>\n    \n        <rect x=\"200.0\" y=\"150.0\" width=\"50.0\" height=\"50.0\" stroke=\"black\" fill=\"transparent\" stroke-width=\"1\"/>\n    \n        <circle cx=\"200\" cy=\"181\" r=\"2.4\" fill=\"red\"/>\n    \n        <rect x=\"250.0\" y=\"100.0\" width=\"50.0\" height=\"50.0\" stroke=\"black\" fill=\"transparent\" stroke-width=\"1\"/>\n    \n        <circle cx=\"272\" cy=\"114\" r=\"2.4\" fill=\"red\"/>\n    \n        <rect x=\"250.0\" y=\"150.0\" width=\"50.0\" height=\"50.0\" stroke=\"black\" fill=\"transparent\" stroke-width=\"1\"/>\n    \n        <circle cx=\"260\" cy=\"157\" r=\"2.4\" fill=\"red\"/>\n    \n        <rect x=\"300.0\" y=\"0\" width=\"100.0\" height=\"100.0\" stroke=\"black\" fill=\"transparent\" stroke-width=\"1\"/>\n    \n        <circle cx=\"355\" cy=\"37\" r=\"2.4\" fill=\"red\"/>\n    \n        <rect x=\"300.0\" y=\"100.0\" width=\"100.0\" height=\"100.0\" stroke=\"black\" fill=\"transparent\" stroke-width=\"1\"/>\n    \n        <circle cx=\"364\" cy=\"123\" r=\"2.4\" fill=\"red\"/>\n    \n        <rect x=\"200.0\" y=\"200.0\" width=\"200.0\" height=\"200.0\" stroke=\"black\" fill=\"transparent\" stroke-width=\"1\"/>\n    \n        <circle cx=\"221\" cy=\"344\" r=\"2.4\" fill=\"red\"/>\n    \n        <circle cx=\"157\" cy=\"49\" r=\"4\" fill=\"purple\"/>\n    </svg>",
      "text/plain": [
       "<IPython.core.display.SVG object>"
      ]
     },
     "metadata": {},
     "output_type": "display_data"
    },
    {
     "data": {
      "image/svg+xml": "<svg xmlns=\"http://www.w3.org/2000/svg\" width=\"400\" height=\"400\" version=\"1.1\">\n          <rect x=\"0\" y=\"0\" width=\"400\" height=\"400\" fill=\"white\"/>\n        \n        <rect x=\"0\" y=\"0\" width=\"200.0\" height=\"200.0\" stroke=\"black\" fill=\"transparent\" stroke-width=\"1\"/>\n    \n        <rect x=\"0\" y=\"0\" width=\"100.0\" height=\"100.0\" stroke=\"black\" fill=\"transparent\" stroke-width=\"1\"/>\n    \n        <rect x=\"0\" y=\"100.0\" width=\"100.0\" height=\"100.0\" stroke=\"black\" fill=\"transparent\" stroke-width=\"1\"/>\n    \n        <rect x=\"0\" y=\"100.0\" width=\"50.0\" height=\"50.0\" stroke=\"black\" fill=\"transparent\" stroke-width=\"1\"/>\n    \n        <circle cx=\"11\" cy=\"146\" r=\"2.4\" fill=\"red\"/>\n    \n        <rect x=\"0\" y=\"150.0\" width=\"50.0\" height=\"50.0\" stroke=\"black\" fill=\"transparent\" stroke-width=\"1\"/>\n    \n        <circle cx=\"13\" cy=\"198\" r=\"2.4\" fill=\"red\"/>\n    \n        <rect x=\"50.0\" y=\"100.0\" width=\"50.0\" height=\"50.0\" stroke=\"black\" fill=\"transparent\" stroke-width=\"1\"/>\n    \n        <rect x=\"50.0\" y=\"150.0\" width=\"50.0\" height=\"50.0\" stroke=\"black\" fill=\"transparent\" stroke-width=\"1\"/>\n    \n        <circle cx=\"50\" cy=\"154\" r=\"2.4\" fill=\"red\"/>\n    \n        <rect x=\"100.0\" y=\"0\" width=\"100.0\" height=\"100.0\" stroke=\"black\" fill=\"transparent\" stroke-width=\"1\"/>\n    \n        <circle cx=\"157\" cy=\"49\" r=\"2.4\" fill=\"red\"/>\n    \n        <circle cx=\"189\" cy=\"91\" r=\"2.4\" fill=\"red\"/>\n    \n        <rect x=\"100.0\" y=\"100.0\" width=\"100.0\" height=\"100.0\" stroke=\"black\" fill=\"transparent\" stroke-width=\"1\"/>\n    \n        <rect x=\"0\" y=\"200.0\" width=\"200.0\" height=\"200.0\" stroke=\"black\" fill=\"transparent\" stroke-width=\"1\"/>\n    \n        <rect x=\"0\" y=\"200.0\" width=\"100.0\" height=\"100.0\" stroke=\"black\" fill=\"transparent\" stroke-width=\"1\"/>\n    \n        <circle cx=\"23\" cy=\"281\" r=\"2.4\" fill=\"red\"/>\n    \n        <rect x=\"0\" y=\"300.0\" width=\"100.0\" height=\"100.0\" stroke=\"black\" fill=\"transparent\" stroke-width=\"1\"/>\n    \n        <circle cx=\"51\" cy=\"394\" r=\"2.4\" fill=\"red\"/>\n    \n        <circle cx=\"17\" cy=\"394\" r=\"2.4\" fill=\"red\"/>\n    \n        <rect x=\"100.0\" y=\"200.0\" width=\"100.0\" height=\"100.0\" stroke=\"black\" fill=\"transparent\" stroke-width=\"1\"/>\n    \n        <circle cx=\"111\" cy=\"274\" r=\"2.4\" fill=\"red\"/>\n    \n        <rect x=\"100.0\" y=\"300.0\" width=\"100.0\" height=\"100.0\" stroke=\"black\" fill=\"transparent\" stroke-width=\"1\"/>\n    \n        <rect x=\"200.0\" y=\"0\" width=\"200.0\" height=\"200.0\" stroke=\"black\" fill=\"transparent\" stroke-width=\"1\"/>\n    \n        <rect x=\"200.0\" y=\"0\" width=\"100.0\" height=\"100.0\" stroke=\"black\" fill=\"transparent\" stroke-width=\"1\"/>\n    \n        <circle cx=\"261\" cy=\"28\" r=\"2.4\" fill=\"red\"/>\n    \n        <rect x=\"200.0\" y=\"100.0\" width=\"100.0\" height=\"100.0\" stroke=\"black\" fill=\"transparent\" stroke-width=\"1\"/>\n    \n        <rect x=\"200.0\" y=\"100.0\" width=\"50.0\" height=\"50.0\" stroke=\"black\" fill=\"transparent\" stroke-width=\"1\"/>\n    \n        <rect x=\"200.0\" y=\"150.0\" width=\"50.0\" height=\"50.0\" stroke=\"black\" fill=\"transparent\" stroke-width=\"1\"/>\n    \n        <circle cx=\"200\" cy=\"181\" r=\"2.4\" fill=\"red\"/>\n    \n        <rect x=\"250.0\" y=\"100.0\" width=\"50.0\" height=\"50.0\" stroke=\"black\" fill=\"transparent\" stroke-width=\"1\"/>\n    \n        <circle cx=\"272\" cy=\"114\" r=\"2.4\" fill=\"red\"/>\n    \n        <rect x=\"250.0\" y=\"150.0\" width=\"50.0\" height=\"50.0\" stroke=\"black\" fill=\"transparent\" stroke-width=\"1\"/>\n    \n        <circle cx=\"260\" cy=\"157\" r=\"2.4\" fill=\"red\"/>\n    \n        <rect x=\"300.0\" y=\"0\" width=\"100.0\" height=\"100.0\" stroke=\"black\" fill=\"transparent\" stroke-width=\"1\"/>\n    \n        <circle cx=\"355\" cy=\"37\" r=\"2.4\" fill=\"red\"/>\n    \n        <rect x=\"300.0\" y=\"100.0\" width=\"100.0\" height=\"100.0\" stroke=\"black\" fill=\"transparent\" stroke-width=\"1\"/>\n    \n        <circle cx=\"364\" cy=\"123\" r=\"2.4\" fill=\"red\"/>\n    \n        <rect x=\"200.0\" y=\"200.0\" width=\"200.0\" height=\"200.0\" stroke=\"black\" fill=\"transparent\" stroke-width=\"1\"/>\n    \n        <circle cx=\"221\" cy=\"344\" r=\"2.4\" fill=\"red\"/>\n    \n        <circle cx=\"189\" cy=\"91\" r=\"4\" fill=\"purple\"/>\n    </svg>",
      "text/plain": [
       "<IPython.core.display.SVG object>"
      ]
     },
     "metadata": {},
     "output_type": "display_data"
    },
    {
     "data": {
      "image/svg+xml": "<svg xmlns=\"http://www.w3.org/2000/svg\" width=\"400\" height=\"400\" version=\"1.1\">\n          <rect x=\"0\" y=\"0\" width=\"400\" height=\"400\" fill=\"white\"/>\n        \n        <rect x=\"0\" y=\"0\" width=\"200.0\" height=\"200.0\" stroke=\"black\" fill=\"transparent\" stroke-width=\"1\"/>\n    \n        <rect x=\"0\" y=\"0\" width=\"100.0\" height=\"100.0\" stroke=\"black\" fill=\"transparent\" stroke-width=\"1\"/>\n    \n        <rect x=\"0\" y=\"100.0\" width=\"100.0\" height=\"100.0\" stroke=\"black\" fill=\"transparent\" stroke-width=\"1\"/>\n    \n        <rect x=\"0\" y=\"100.0\" width=\"50.0\" height=\"50.0\" stroke=\"black\" fill=\"transparent\" stroke-width=\"1\"/>\n    \n        <circle cx=\"11\" cy=\"146\" r=\"2.4\" fill=\"red\"/>\n    \n        <rect x=\"0\" y=\"150.0\" width=\"50.0\" height=\"50.0\" stroke=\"black\" fill=\"transparent\" stroke-width=\"1\"/>\n    \n        <circle cx=\"13\" cy=\"198\" r=\"2.4\" fill=\"red\"/>\n    \n        <rect x=\"50.0\" y=\"100.0\" width=\"50.0\" height=\"50.0\" stroke=\"black\" fill=\"transparent\" stroke-width=\"1\"/>\n    \n        <rect x=\"50.0\" y=\"150.0\" width=\"50.0\" height=\"50.0\" stroke=\"black\" fill=\"transparent\" stroke-width=\"1\"/>\n    \n        <circle cx=\"50\" cy=\"154\" r=\"2.4\" fill=\"red\"/>\n    \n        <rect x=\"100.0\" y=\"0\" width=\"100.0\" height=\"100.0\" stroke=\"black\" fill=\"transparent\" stroke-width=\"1\"/>\n    \n        <circle cx=\"157\" cy=\"49\" r=\"2.4\" fill=\"red\"/>\n    \n        <circle cx=\"189\" cy=\"91\" r=\"2.4\" fill=\"red\"/>\n    \n        <rect x=\"100.0\" y=\"100.0\" width=\"100.0\" height=\"100.0\" stroke=\"black\" fill=\"transparent\" stroke-width=\"1\"/>\n    \n        <rect x=\"0\" y=\"200.0\" width=\"200.0\" height=\"200.0\" stroke=\"black\" fill=\"transparent\" stroke-width=\"1\"/>\n    \n        <rect x=\"0\" y=\"200.0\" width=\"100.0\" height=\"100.0\" stroke=\"black\" fill=\"transparent\" stroke-width=\"1\"/>\n    \n        <circle cx=\"23\" cy=\"281\" r=\"2.4\" fill=\"red\"/>\n    \n        <rect x=\"0\" y=\"300.0\" width=\"100.0\" height=\"100.0\" stroke=\"black\" fill=\"transparent\" stroke-width=\"1\"/>\n    \n        <circle cx=\"51\" cy=\"394\" r=\"2.4\" fill=\"red\"/>\n    \n        <circle cx=\"17\" cy=\"394\" r=\"2.4\" fill=\"red\"/>\n    \n        <rect x=\"100.0\" y=\"200.0\" width=\"100.0\" height=\"100.0\" stroke=\"black\" fill=\"transparent\" stroke-width=\"1\"/>\n    \n        <circle cx=\"111\" cy=\"274\" r=\"2.4\" fill=\"red\"/>\n    \n        <rect x=\"100.0\" y=\"300.0\" width=\"100.0\" height=\"100.0\" stroke=\"black\" fill=\"transparent\" stroke-width=\"1\"/>\n    \n        <circle cx=\"139\" cy=\"321\" r=\"2.4\" fill=\"red\"/>\n    \n        <rect x=\"200.0\" y=\"0\" width=\"200.0\" height=\"200.0\" stroke=\"black\" fill=\"transparent\" stroke-width=\"1\"/>\n    \n        <rect x=\"200.0\" y=\"0\" width=\"100.0\" height=\"100.0\" stroke=\"black\" fill=\"transparent\" stroke-width=\"1\"/>\n    \n        <circle cx=\"261\" cy=\"28\" r=\"2.4\" fill=\"red\"/>\n    \n        <rect x=\"200.0\" y=\"100.0\" width=\"100.0\" height=\"100.0\" stroke=\"black\" fill=\"transparent\" stroke-width=\"1\"/>\n    \n        <rect x=\"200.0\" y=\"100.0\" width=\"50.0\" height=\"50.0\" stroke=\"black\" fill=\"transparent\" stroke-width=\"1\"/>\n    \n        <rect x=\"200.0\" y=\"150.0\" width=\"50.0\" height=\"50.0\" stroke=\"black\" fill=\"transparent\" stroke-width=\"1\"/>\n    \n        <circle cx=\"200\" cy=\"181\" r=\"2.4\" fill=\"red\"/>\n    \n        <rect x=\"250.0\" y=\"100.0\" width=\"50.0\" height=\"50.0\" stroke=\"black\" fill=\"transparent\" stroke-width=\"1\"/>\n    \n        <circle cx=\"272\" cy=\"114\" r=\"2.4\" fill=\"red\"/>\n    \n        <rect x=\"250.0\" y=\"150.0\" width=\"50.0\" height=\"50.0\" stroke=\"black\" fill=\"transparent\" stroke-width=\"1\"/>\n    \n        <circle cx=\"260\" cy=\"157\" r=\"2.4\" fill=\"red\"/>\n    \n        <rect x=\"300.0\" y=\"0\" width=\"100.0\" height=\"100.0\" stroke=\"black\" fill=\"transparent\" stroke-width=\"1\"/>\n    \n        <circle cx=\"355\" cy=\"37\" r=\"2.4\" fill=\"red\"/>\n    \n        <rect x=\"300.0\" y=\"100.0\" width=\"100.0\" height=\"100.0\" stroke=\"black\" fill=\"transparent\" stroke-width=\"1\"/>\n    \n        <circle cx=\"364\" cy=\"123\" r=\"2.4\" fill=\"red\"/>\n    \n        <rect x=\"200.0\" y=\"200.0\" width=\"200.0\" height=\"200.0\" stroke=\"black\" fill=\"transparent\" stroke-width=\"1\"/>\n    \n        <circle cx=\"221\" cy=\"344\" r=\"2.4\" fill=\"red\"/>\n    \n        <circle cx=\"139\" cy=\"321\" r=\"4\" fill=\"purple\"/>\n    </svg>",
      "text/plain": [
       "<IPython.core.display.SVG object>"
      ]
     },
     "metadata": {},
     "output_type": "display_data"
    },
    {
     "data": {
      "image/svg+xml": "<svg xmlns=\"http://www.w3.org/2000/svg\" width=\"400\" height=\"400\" version=\"1.1\">\n          <rect x=\"0\" y=\"0\" width=\"400\" height=\"400\" fill=\"white\"/>\n        \n        <rect x=\"0\" y=\"0\" width=\"200.0\" height=\"200.0\" stroke=\"black\" fill=\"transparent\" stroke-width=\"1\"/>\n    \n        <rect x=\"0\" y=\"0\" width=\"100.0\" height=\"100.0\" stroke=\"black\" fill=\"transparent\" stroke-width=\"1\"/>\n    \n        <rect x=\"0\" y=\"100.0\" width=\"100.0\" height=\"100.0\" stroke=\"black\" fill=\"transparent\" stroke-width=\"1\"/>\n    \n        <rect x=\"0\" y=\"100.0\" width=\"50.0\" height=\"50.0\" stroke=\"black\" fill=\"transparent\" stroke-width=\"1\"/>\n    \n        <circle cx=\"11\" cy=\"146\" r=\"2.4\" fill=\"red\"/>\n    \n        <rect x=\"0\" y=\"150.0\" width=\"50.0\" height=\"50.0\" stroke=\"black\" fill=\"transparent\" stroke-width=\"1\"/>\n    \n        <circle cx=\"13\" cy=\"198\" r=\"2.4\" fill=\"red\"/>\n    \n        <rect x=\"50.0\" y=\"100.0\" width=\"50.0\" height=\"50.0\" stroke=\"black\" fill=\"transparent\" stroke-width=\"1\"/>\n    \n        <rect x=\"50.0\" y=\"150.0\" width=\"50.0\" height=\"50.0\" stroke=\"black\" fill=\"transparent\" stroke-width=\"1\"/>\n    \n        <circle cx=\"50\" cy=\"154\" r=\"2.4\" fill=\"red\"/>\n    \n        <rect x=\"100.0\" y=\"0\" width=\"100.0\" height=\"100.0\" stroke=\"black\" fill=\"transparent\" stroke-width=\"1\"/>\n    \n        <circle cx=\"157\" cy=\"49\" r=\"2.4\" fill=\"red\"/>\n    \n        <circle cx=\"189\" cy=\"91\" r=\"2.4\" fill=\"red\"/>\n    \n        <rect x=\"100.0\" y=\"100.0\" width=\"100.0\" height=\"100.0\" stroke=\"black\" fill=\"transparent\" stroke-width=\"1\"/>\n    \n        <circle cx=\"189\" cy=\"193\" r=\"2.4\" fill=\"red\"/>\n    \n        <rect x=\"0\" y=\"200.0\" width=\"200.0\" height=\"200.0\" stroke=\"black\" fill=\"transparent\" stroke-width=\"1\"/>\n    \n        <rect x=\"0\" y=\"200.0\" width=\"100.0\" height=\"100.0\" stroke=\"black\" fill=\"transparent\" stroke-width=\"1\"/>\n    \n        <circle cx=\"23\" cy=\"281\" r=\"2.4\" fill=\"red\"/>\n    \n        <rect x=\"0\" y=\"300.0\" width=\"100.0\" height=\"100.0\" stroke=\"black\" fill=\"transparent\" stroke-width=\"1\"/>\n    \n        <circle cx=\"51\" cy=\"394\" r=\"2.4\" fill=\"red\"/>\n    \n        <circle cx=\"17\" cy=\"394\" r=\"2.4\" fill=\"red\"/>\n    \n        <rect x=\"100.0\" y=\"200.0\" width=\"100.0\" height=\"100.0\" stroke=\"black\" fill=\"transparent\" stroke-width=\"1\"/>\n    \n        <circle cx=\"111\" cy=\"274\" r=\"2.4\" fill=\"red\"/>\n    \n        <rect x=\"100.0\" y=\"300.0\" width=\"100.0\" height=\"100.0\" stroke=\"black\" fill=\"transparent\" stroke-width=\"1\"/>\n    \n        <circle cx=\"139\" cy=\"321\" r=\"2.4\" fill=\"red\"/>\n    \n        <rect x=\"200.0\" y=\"0\" width=\"200.0\" height=\"200.0\" stroke=\"black\" fill=\"transparent\" stroke-width=\"1\"/>\n    \n        <rect x=\"200.0\" y=\"0\" width=\"100.0\" height=\"100.0\" stroke=\"black\" fill=\"transparent\" stroke-width=\"1\"/>\n    \n        <circle cx=\"261\" cy=\"28\" r=\"2.4\" fill=\"red\"/>\n    \n        <rect x=\"200.0\" y=\"100.0\" width=\"100.0\" height=\"100.0\" stroke=\"black\" fill=\"transparent\" stroke-width=\"1\"/>\n    \n        <rect x=\"200.0\" y=\"100.0\" width=\"50.0\" height=\"50.0\" stroke=\"black\" fill=\"transparent\" stroke-width=\"1\"/>\n    \n        <rect x=\"200.0\" y=\"150.0\" width=\"50.0\" height=\"50.0\" stroke=\"black\" fill=\"transparent\" stroke-width=\"1\"/>\n    \n        <circle cx=\"200\" cy=\"181\" r=\"2.4\" fill=\"red\"/>\n    \n        <rect x=\"250.0\" y=\"100.0\" width=\"50.0\" height=\"50.0\" stroke=\"black\" fill=\"transparent\" stroke-width=\"1\"/>\n    \n        <circle cx=\"272\" cy=\"114\" r=\"2.4\" fill=\"red\"/>\n    \n        <rect x=\"250.0\" y=\"150.0\" width=\"50.0\" height=\"50.0\" stroke=\"black\" fill=\"transparent\" stroke-width=\"1\"/>\n    \n        <circle cx=\"260\" cy=\"157\" r=\"2.4\" fill=\"red\"/>\n    \n        <rect x=\"300.0\" y=\"0\" width=\"100.0\" height=\"100.0\" stroke=\"black\" fill=\"transparent\" stroke-width=\"1\"/>\n    \n        <circle cx=\"355\" cy=\"37\" r=\"2.4\" fill=\"red\"/>\n    \n        <rect x=\"300.0\" y=\"100.0\" width=\"100.0\" height=\"100.0\" stroke=\"black\" fill=\"transparent\" stroke-width=\"1\"/>\n    \n        <circle cx=\"364\" cy=\"123\" r=\"2.4\" fill=\"red\"/>\n    \n        <rect x=\"200.0\" y=\"200.0\" width=\"200.0\" height=\"200.0\" stroke=\"black\" fill=\"transparent\" stroke-width=\"1\"/>\n    \n        <circle cx=\"221\" cy=\"344\" r=\"2.4\" fill=\"red\"/>\n    \n        <circle cx=\"189\" cy=\"193\" r=\"4\" fill=\"purple\"/>\n    </svg>",
      "text/plain": [
       "<IPython.core.display.SVG object>"
      ]
     },
     "metadata": {},
     "output_type": "display_data"
    },
    {
     "data": {
      "image/svg+xml": "<svg xmlns=\"http://www.w3.org/2000/svg\" width=\"400\" height=\"400\" version=\"1.1\">\n          <rect x=\"0\" y=\"0\" width=\"400\" height=\"400\" fill=\"white\"/>\n        \n        <rect x=\"0\" y=\"0\" width=\"200.0\" height=\"200.0\" stroke=\"black\" fill=\"transparent\" stroke-width=\"1\"/>\n    \n        <rect x=\"0\" y=\"0\" width=\"100.0\" height=\"100.0\" stroke=\"black\" fill=\"transparent\" stroke-width=\"1\"/>\n    \n        <rect x=\"0\" y=\"100.0\" width=\"100.0\" height=\"100.0\" stroke=\"black\" fill=\"transparent\" stroke-width=\"1\"/>\n    \n        <rect x=\"0\" y=\"100.0\" width=\"50.0\" height=\"50.0\" stroke=\"black\" fill=\"transparent\" stroke-width=\"1\"/>\n    \n        <circle cx=\"11\" cy=\"146\" r=\"2.4\" fill=\"red\"/>\n    \n        <rect x=\"0\" y=\"150.0\" width=\"50.0\" height=\"50.0\" stroke=\"black\" fill=\"transparent\" stroke-width=\"1\"/>\n    \n        <circle cx=\"13\" cy=\"198\" r=\"2.4\" fill=\"red\"/>\n    \n        <rect x=\"50.0\" y=\"100.0\" width=\"50.0\" height=\"50.0\" stroke=\"black\" fill=\"transparent\" stroke-width=\"1\"/>\n    \n        <rect x=\"50.0\" y=\"150.0\" width=\"50.0\" height=\"50.0\" stroke=\"black\" fill=\"transparent\" stroke-width=\"1\"/>\n    \n        <circle cx=\"50\" cy=\"154\" r=\"2.4\" fill=\"red\"/>\n    \n        <rect x=\"100.0\" y=\"0\" width=\"100.0\" height=\"100.0\" stroke=\"black\" fill=\"transparent\" stroke-width=\"1\"/>\n    \n        <circle cx=\"157\" cy=\"49\" r=\"2.4\" fill=\"red\"/>\n    \n        <circle cx=\"189\" cy=\"91\" r=\"2.4\" fill=\"red\"/>\n    \n        <rect x=\"100.0\" y=\"100.0\" width=\"100.0\" height=\"100.0\" stroke=\"black\" fill=\"transparent\" stroke-width=\"1\"/>\n    \n        <circle cx=\"189\" cy=\"193\" r=\"2.4\" fill=\"red\"/>\n    \n        <rect x=\"0\" y=\"200.0\" width=\"200.0\" height=\"200.0\" stroke=\"black\" fill=\"transparent\" stroke-width=\"1\"/>\n    \n        <rect x=\"0\" y=\"200.0\" width=\"100.0\" height=\"100.0\" stroke=\"black\" fill=\"transparent\" stroke-width=\"1\"/>\n    \n        <circle cx=\"23\" cy=\"281\" r=\"2.4\" fill=\"red\"/>\n    \n        <rect x=\"0\" y=\"300.0\" width=\"100.0\" height=\"100.0\" stroke=\"black\" fill=\"transparent\" stroke-width=\"1\"/>\n    \n        <circle cx=\"51\" cy=\"394\" r=\"2.4\" fill=\"red\"/>\n    \n        <circle cx=\"17\" cy=\"394\" r=\"2.4\" fill=\"red\"/>\n    \n        <rect x=\"100.0\" y=\"200.0\" width=\"100.0\" height=\"100.0\" stroke=\"black\" fill=\"transparent\" stroke-width=\"1\"/>\n    \n        <circle cx=\"111\" cy=\"274\" r=\"2.4\" fill=\"red\"/>\n    \n        <rect x=\"100.0\" y=\"300.0\" width=\"100.0\" height=\"100.0\" stroke=\"black\" fill=\"transparent\" stroke-width=\"1\"/>\n    \n        <circle cx=\"139\" cy=\"321\" r=\"2.4\" fill=\"red\"/>\n    \n        <rect x=\"200.0\" y=\"0\" width=\"200.0\" height=\"200.0\" stroke=\"black\" fill=\"transparent\" stroke-width=\"1\"/>\n    \n        <rect x=\"200.0\" y=\"0\" width=\"100.0\" height=\"100.0\" stroke=\"black\" fill=\"transparent\" stroke-width=\"1\"/>\n    \n        <circle cx=\"261\" cy=\"28\" r=\"2.4\" fill=\"red\"/>\n    \n        <circle cx=\"240\" cy=\"12\" r=\"2.4\" fill=\"red\"/>\n    \n        <rect x=\"200.0\" y=\"100.0\" width=\"100.0\" height=\"100.0\" stroke=\"black\" fill=\"transparent\" stroke-width=\"1\"/>\n    \n        <rect x=\"200.0\" y=\"100.0\" width=\"50.0\" height=\"50.0\" stroke=\"black\" fill=\"transparent\" stroke-width=\"1\"/>\n    \n        <rect x=\"200.0\" y=\"150.0\" width=\"50.0\" height=\"50.0\" stroke=\"black\" fill=\"transparent\" stroke-width=\"1\"/>\n    \n        <circle cx=\"200\" cy=\"181\" r=\"2.4\" fill=\"red\"/>\n    \n        <rect x=\"250.0\" y=\"100.0\" width=\"50.0\" height=\"50.0\" stroke=\"black\" fill=\"transparent\" stroke-width=\"1\"/>\n    \n        <circle cx=\"272\" cy=\"114\" r=\"2.4\" fill=\"red\"/>\n    \n        <rect x=\"250.0\" y=\"150.0\" width=\"50.0\" height=\"50.0\" stroke=\"black\" fill=\"transparent\" stroke-width=\"1\"/>\n    \n        <circle cx=\"260\" cy=\"157\" r=\"2.4\" fill=\"red\"/>\n    \n        <rect x=\"300.0\" y=\"0\" width=\"100.0\" height=\"100.0\" stroke=\"black\" fill=\"transparent\" stroke-width=\"1\"/>\n    \n        <circle cx=\"355\" cy=\"37\" r=\"2.4\" fill=\"red\"/>\n    \n        <rect x=\"300.0\" y=\"100.0\" width=\"100.0\" height=\"100.0\" stroke=\"black\" fill=\"transparent\" stroke-width=\"1\"/>\n    \n        <circle cx=\"364\" cy=\"123\" r=\"2.4\" fill=\"red\"/>\n    \n        <rect x=\"200.0\" y=\"200.0\" width=\"200.0\" height=\"200.0\" stroke=\"black\" fill=\"transparent\" stroke-width=\"1\"/>\n    \n        <circle cx=\"221\" cy=\"344\" r=\"2.4\" fill=\"red\"/>\n    \n        <circle cx=\"240\" cy=\"12\" r=\"4\" fill=\"purple\"/>\n    </svg>",
      "text/plain": [
       "<IPython.core.display.SVG object>"
      ]
     },
     "metadata": {},
     "output_type": "display_data"
    },
    {
     "data": {
      "image/svg+xml": "<svg xmlns=\"http://www.w3.org/2000/svg\" width=\"400\" height=\"400\" version=\"1.1\">\n          <rect x=\"0\" y=\"0\" width=\"400\" height=\"400\" fill=\"white\"/>\n        \n        <rect x=\"0\" y=\"0\" width=\"200.0\" height=\"200.0\" stroke=\"black\" fill=\"transparent\" stroke-width=\"1\"/>\n    \n        <rect x=\"0\" y=\"0\" width=\"100.0\" height=\"100.0\" stroke=\"black\" fill=\"transparent\" stroke-width=\"1\"/>\n    \n        <rect x=\"0\" y=\"100.0\" width=\"100.0\" height=\"100.0\" stroke=\"black\" fill=\"transparent\" stroke-width=\"1\"/>\n    \n        <rect x=\"0\" y=\"100.0\" width=\"50.0\" height=\"50.0\" stroke=\"black\" fill=\"transparent\" stroke-width=\"1\"/>\n    \n        <circle cx=\"11\" cy=\"146\" r=\"2.4\" fill=\"red\"/>\n    \n        <rect x=\"0\" y=\"150.0\" width=\"50.0\" height=\"50.0\" stroke=\"black\" fill=\"transparent\" stroke-width=\"1\"/>\n    \n        <circle cx=\"13\" cy=\"198\" r=\"2.4\" fill=\"red\"/>\n    \n        <rect x=\"50.0\" y=\"100.0\" width=\"50.0\" height=\"50.0\" stroke=\"black\" fill=\"transparent\" stroke-width=\"1\"/>\n    \n        <rect x=\"50.0\" y=\"150.0\" width=\"50.0\" height=\"50.0\" stroke=\"black\" fill=\"transparent\" stroke-width=\"1\"/>\n    \n        <circle cx=\"50\" cy=\"154\" r=\"2.4\" fill=\"red\"/>\n    \n        <rect x=\"100.0\" y=\"0\" width=\"100.0\" height=\"100.0\" stroke=\"black\" fill=\"transparent\" stroke-width=\"1\"/>\n    \n        <circle cx=\"157\" cy=\"49\" r=\"2.4\" fill=\"red\"/>\n    \n        <circle cx=\"189\" cy=\"91\" r=\"2.4\" fill=\"red\"/>\n    \n        <rect x=\"100.0\" y=\"100.0\" width=\"100.0\" height=\"100.0\" stroke=\"black\" fill=\"transparent\" stroke-width=\"1\"/>\n    \n        <circle cx=\"189\" cy=\"193\" r=\"2.4\" fill=\"red\"/>\n    \n        <rect x=\"0\" y=\"200.0\" width=\"200.0\" height=\"200.0\" stroke=\"black\" fill=\"transparent\" stroke-width=\"1\"/>\n    \n        <rect x=\"0\" y=\"200.0\" width=\"100.0\" height=\"100.0\" stroke=\"black\" fill=\"transparent\" stroke-width=\"1\"/>\n    \n        <circle cx=\"23\" cy=\"281\" r=\"2.4\" fill=\"red\"/>\n    \n        <rect x=\"0\" y=\"300.0\" width=\"100.0\" height=\"100.0\" stroke=\"black\" fill=\"transparent\" stroke-width=\"1\"/>\n    \n        <circle cx=\"51\" cy=\"394\" r=\"2.4\" fill=\"red\"/>\n    \n        <circle cx=\"17\" cy=\"394\" r=\"2.4\" fill=\"red\"/>\n    \n        <rect x=\"100.0\" y=\"200.0\" width=\"100.0\" height=\"100.0\" stroke=\"black\" fill=\"transparent\" stroke-width=\"1\"/>\n    \n        <circle cx=\"111\" cy=\"274\" r=\"2.4\" fill=\"red\"/>\n    \n        <rect x=\"100.0\" y=\"300.0\" width=\"100.0\" height=\"100.0\" stroke=\"black\" fill=\"transparent\" stroke-width=\"1\"/>\n    \n        <circle cx=\"139\" cy=\"321\" r=\"2.4\" fill=\"red\"/>\n    \n        <rect x=\"200.0\" y=\"0\" width=\"200.0\" height=\"200.0\" stroke=\"black\" fill=\"transparent\" stroke-width=\"1\"/>\n    \n        <rect x=\"200.0\" y=\"0\" width=\"100.0\" height=\"100.0\" stroke=\"black\" fill=\"transparent\" stroke-width=\"1\"/>\n    \n        <circle cx=\"261\" cy=\"28\" r=\"2.4\" fill=\"red\"/>\n    \n        <circle cx=\"240\" cy=\"12\" r=\"2.4\" fill=\"red\"/>\n    \n        <rect x=\"200.0\" y=\"100.0\" width=\"100.0\" height=\"100.0\" stroke=\"black\" fill=\"transparent\" stroke-width=\"1\"/>\n    \n        <rect x=\"200.0\" y=\"100.0\" width=\"50.0\" height=\"50.0\" stroke=\"black\" fill=\"transparent\" stroke-width=\"1\"/>\n    \n        <rect x=\"200.0\" y=\"150.0\" width=\"50.0\" height=\"50.0\" stroke=\"black\" fill=\"transparent\" stroke-width=\"1\"/>\n    \n        <circle cx=\"200\" cy=\"181\" r=\"2.4\" fill=\"red\"/>\n    \n        <rect x=\"250.0\" y=\"100.0\" width=\"50.0\" height=\"50.0\" stroke=\"black\" fill=\"transparent\" stroke-width=\"1\"/>\n    \n        <circle cx=\"272\" cy=\"114\" r=\"2.4\" fill=\"red\"/>\n    \n        <rect x=\"250.0\" y=\"150.0\" width=\"50.0\" height=\"50.0\" stroke=\"black\" fill=\"transparent\" stroke-width=\"1\"/>\n    \n        <circle cx=\"260\" cy=\"157\" r=\"2.4\" fill=\"red\"/>\n    \n        <circle cx=\"294\" cy=\"156\" r=\"2.4\" fill=\"red\"/>\n    \n        <rect x=\"300.0\" y=\"0\" width=\"100.0\" height=\"100.0\" stroke=\"black\" fill=\"transparent\" stroke-width=\"1\"/>\n    \n        <circle cx=\"355\" cy=\"37\" r=\"2.4\" fill=\"red\"/>\n    \n        <rect x=\"300.0\" y=\"100.0\" width=\"100.0\" height=\"100.0\" stroke=\"black\" fill=\"transparent\" stroke-width=\"1\"/>\n    \n        <circle cx=\"364\" cy=\"123\" r=\"2.4\" fill=\"red\"/>\n    \n        <rect x=\"200.0\" y=\"200.0\" width=\"200.0\" height=\"200.0\" stroke=\"black\" fill=\"transparent\" stroke-width=\"1\"/>\n    \n        <circle cx=\"221\" cy=\"344\" r=\"2.4\" fill=\"red\"/>\n    \n        <circle cx=\"294\" cy=\"156\" r=\"4\" fill=\"purple\"/>\n    </svg>",
      "text/plain": [
       "<IPython.core.display.SVG object>"
      ]
     },
     "metadata": {},
     "output_type": "display_data"
    }
   ],
   "source": [
    "display(*gen_add_process(qs, gen_random_entries(20, W, H)))"
   ]
  },
  {
   "cell_type": "markdown",
   "metadata": {},
   "source": [
    "<div dir=rtl>\n",
    "\n",
    "### جستجو"
   ]
  },
  {
   "cell_type": "code",
   "execution_count": 13,
   "metadata": {},
   "outputs": [
    {
     "data": {
      "image/svg+xml": "<svg xmlns=\"http://www.w3.org/2000/svg\" width=\"400\" height=\"400\" version=\"1.1\">\n          <rect x=\"0\" y=\"0\" width=\"400\" height=\"400\" fill=\"white\"/>\n        \n        <rect x=\"0\" y=\"0\" width=\"200.0\" height=\"200.0\" stroke=\"black\" fill=\"transparent\" stroke-width=\"1\"/>\n    \n        <rect x=\"0\" y=\"0\" width=\"100.0\" height=\"100.0\" stroke=\"black\" fill=\"transparent\" stroke-width=\"1\"/>\n    \n        <rect x=\"0\" y=\"100.0\" width=\"100.0\" height=\"100.0\" stroke=\"black\" fill=\"transparent\" stroke-width=\"1\"/>\n    \n        <rect x=\"0\" y=\"100.0\" width=\"50.0\" height=\"50.0\" stroke=\"black\" fill=\"transparent\" stroke-width=\"1\"/>\n    \n        <circle cx=\"11\" cy=\"146\" r=\"2.4\" fill=\"red\"/>\n    \n        <rect x=\"0\" y=\"150.0\" width=\"50.0\" height=\"50.0\" stroke=\"black\" fill=\"transparent\" stroke-width=\"1\"/>\n    \n        <circle cx=\"13\" cy=\"198\" r=\"2.4\" fill=\"red\"/>\n    \n        <rect x=\"50.0\" y=\"100.0\" width=\"50.0\" height=\"50.0\" stroke=\"black\" fill=\"transparent\" stroke-width=\"1\"/>\n    \n        <rect x=\"50.0\" y=\"150.0\" width=\"50.0\" height=\"50.0\" stroke=\"black\" fill=\"transparent\" stroke-width=\"1\"/>\n    \n        <circle cx=\"50\" cy=\"154\" r=\"2.4\" fill=\"red\"/>\n    \n        <rect x=\"100.0\" y=\"0\" width=\"100.0\" height=\"100.0\" stroke=\"black\" fill=\"transparent\" stroke-width=\"1\"/>\n    \n        <circle cx=\"157\" cy=\"49\" r=\"2.4\" fill=\"red\"/>\n    \n        <circle cx=\"189\" cy=\"91\" r=\"2.4\" fill=\"red\"/>\n    \n        <rect x=\"100.0\" y=\"100.0\" width=\"100.0\" height=\"100.0\" stroke=\"black\" fill=\"transparent\" stroke-width=\"1\"/>\n    \n        <circle cx=\"189\" cy=\"193\" r=\"2.4\" fill=\"red\"/>\n    \n        <rect x=\"0\" y=\"200.0\" width=\"200.0\" height=\"200.0\" stroke=\"black\" fill=\"transparent\" stroke-width=\"1\"/>\n    \n        <rect x=\"0\" y=\"200.0\" width=\"100.0\" height=\"100.0\" stroke=\"black\" fill=\"transparent\" stroke-width=\"1\"/>\n    \n        <circle cx=\"23\" cy=\"281\" r=\"2.4\" fill=\"red\"/>\n    \n        <rect x=\"0\" y=\"300.0\" width=\"100.0\" height=\"100.0\" stroke=\"black\" fill=\"transparent\" stroke-width=\"1\"/>\n    \n        <circle cx=\"51\" cy=\"394\" r=\"2.4\" fill=\"red\"/>\n    \n        <circle cx=\"17\" cy=\"394\" r=\"2.4\" fill=\"red\"/>\n    \n        <rect x=\"100.0\" y=\"200.0\" width=\"100.0\" height=\"100.0\" stroke=\"black\" fill=\"transparent\" stroke-width=\"1\"/>\n    \n        <circle cx=\"111\" cy=\"274\" r=\"2.4\" fill=\"red\"/>\n    \n        <rect x=\"100.0\" y=\"300.0\" width=\"100.0\" height=\"100.0\" stroke=\"black\" fill=\"transparent\" stroke-width=\"1\"/>\n    \n        <circle cx=\"139\" cy=\"321\" r=\"2.4\" fill=\"red\"/>\n    \n        <rect x=\"200.0\" y=\"0\" width=\"200.0\" height=\"200.0\" stroke=\"black\" fill=\"transparent\" stroke-width=\"1\"/>\n    \n        <rect x=\"200.0\" y=\"0\" width=\"100.0\" height=\"100.0\" stroke=\"black\" fill=\"transparent\" stroke-width=\"1\"/>\n    \n        <circle cx=\"261\" cy=\"28\" r=\"2.4\" fill=\"red\"/>\n    \n        <circle cx=\"240\" cy=\"12\" r=\"2.4\" fill=\"red\"/>\n    \n        <rect x=\"200.0\" y=\"100.0\" width=\"100.0\" height=\"100.0\" stroke=\"black\" fill=\"transparent\" stroke-width=\"1\"/>\n    \n        <rect x=\"200.0\" y=\"100.0\" width=\"50.0\" height=\"50.0\" stroke=\"black\" fill=\"transparent\" stroke-width=\"1\"/>\n    \n        <rect x=\"200.0\" y=\"150.0\" width=\"50.0\" height=\"50.0\" stroke=\"black\" fill=\"transparent\" stroke-width=\"1\"/>\n    \n        <circle cx=\"200\" cy=\"181\" r=\"2.4\" fill=\"red\"/>\n    \n        <rect x=\"250.0\" y=\"100.0\" width=\"50.0\" height=\"50.0\" stroke=\"black\" fill=\"transparent\" stroke-width=\"1\"/>\n    \n        <circle cx=\"272\" cy=\"114\" r=\"2.4\" fill=\"red\"/>\n    \n        <rect x=\"250.0\" y=\"150.0\" width=\"50.0\" height=\"50.0\" stroke=\"black\" fill=\"transparent\" stroke-width=\"1\"/>\n    \n        <circle cx=\"260\" cy=\"157\" r=\"2.4\" fill=\"red\"/>\n    \n        <circle cx=\"294\" cy=\"156\" r=\"2.4\" fill=\"red\"/>\n    \n        <rect x=\"300.0\" y=\"0\" width=\"100.0\" height=\"100.0\" stroke=\"black\" fill=\"transparent\" stroke-width=\"1\"/>\n    \n        <circle cx=\"355\" cy=\"37\" r=\"2.4\" fill=\"red\"/>\n    \n        <rect x=\"300.0\" y=\"100.0\" width=\"100.0\" height=\"100.0\" stroke=\"black\" fill=\"transparent\" stroke-width=\"1\"/>\n    \n        <circle cx=\"364\" cy=\"123\" r=\"2.4\" fill=\"red\"/>\n    \n        <rect x=\"200.0\" y=\"200.0\" width=\"200.0\" height=\"200.0\" stroke=\"black\" fill=\"transparent\" stroke-width=\"1\"/>\n    \n        <circle cx=\"221\" cy=\"344\" r=\"2.4\" fill=\"red\"/>\n    \n        <rect x=\"0\" y=\"0\" width=\"400\" height=\"400\" stroke=\"black\" fill=\"rgba(0,0,150,0.3)\" stroke-width=\"1\"/>\n    \n        <rect x=\"30\" y=\"16\" width=\"119\" height=\"35\" stroke=\"black\" fill=\"rgba(30, 200, 30, 0.3)\" stroke-width=\"1\"/>\n    </svg>",
      "text/plain": [
       "<IPython.core.display.SVG object>"
      ]
     },
     "metadata": {},
     "output_type": "display_data"
    },
    {
     "data": {
      "image/svg+xml": "<svg xmlns=\"http://www.w3.org/2000/svg\" width=\"400\" height=\"400\" version=\"1.1\">\n          <rect x=\"0\" y=\"0\" width=\"400\" height=\"400\" fill=\"white\"/>\n        \n        <rect x=\"0\" y=\"0\" width=\"200.0\" height=\"200.0\" stroke=\"black\" fill=\"transparent\" stroke-width=\"1\"/>\n    \n        <rect x=\"0\" y=\"0\" width=\"100.0\" height=\"100.0\" stroke=\"black\" fill=\"transparent\" stroke-width=\"1\"/>\n    \n        <rect x=\"0\" y=\"100.0\" width=\"100.0\" height=\"100.0\" stroke=\"black\" fill=\"transparent\" stroke-width=\"1\"/>\n    \n        <rect x=\"0\" y=\"100.0\" width=\"50.0\" height=\"50.0\" stroke=\"black\" fill=\"transparent\" stroke-width=\"1\"/>\n    \n        <circle cx=\"11\" cy=\"146\" r=\"2.4\" fill=\"red\"/>\n    \n        <rect x=\"0\" y=\"150.0\" width=\"50.0\" height=\"50.0\" stroke=\"black\" fill=\"transparent\" stroke-width=\"1\"/>\n    \n        <circle cx=\"13\" cy=\"198\" r=\"2.4\" fill=\"red\"/>\n    \n        <rect x=\"50.0\" y=\"100.0\" width=\"50.0\" height=\"50.0\" stroke=\"black\" fill=\"transparent\" stroke-width=\"1\"/>\n    \n        <rect x=\"50.0\" y=\"150.0\" width=\"50.0\" height=\"50.0\" stroke=\"black\" fill=\"transparent\" stroke-width=\"1\"/>\n    \n        <circle cx=\"50\" cy=\"154\" r=\"2.4\" fill=\"red\"/>\n    \n        <rect x=\"100.0\" y=\"0\" width=\"100.0\" height=\"100.0\" stroke=\"black\" fill=\"transparent\" stroke-width=\"1\"/>\n    \n        <circle cx=\"157\" cy=\"49\" r=\"2.4\" fill=\"red\"/>\n    \n        <circle cx=\"189\" cy=\"91\" r=\"2.4\" fill=\"red\"/>\n    \n        <rect x=\"100.0\" y=\"100.0\" width=\"100.0\" height=\"100.0\" stroke=\"black\" fill=\"transparent\" stroke-width=\"1\"/>\n    \n        <circle cx=\"189\" cy=\"193\" r=\"2.4\" fill=\"red\"/>\n    \n        <rect x=\"0\" y=\"200.0\" width=\"200.0\" height=\"200.0\" stroke=\"black\" fill=\"transparent\" stroke-width=\"1\"/>\n    \n        <rect x=\"0\" y=\"200.0\" width=\"100.0\" height=\"100.0\" stroke=\"black\" fill=\"transparent\" stroke-width=\"1\"/>\n    \n        <circle cx=\"23\" cy=\"281\" r=\"2.4\" fill=\"red\"/>\n    \n        <rect x=\"0\" y=\"300.0\" width=\"100.0\" height=\"100.0\" stroke=\"black\" fill=\"transparent\" stroke-width=\"1\"/>\n    \n        <circle cx=\"51\" cy=\"394\" r=\"2.4\" fill=\"red\"/>\n    \n        <circle cx=\"17\" cy=\"394\" r=\"2.4\" fill=\"red\"/>\n    \n        <rect x=\"100.0\" y=\"200.0\" width=\"100.0\" height=\"100.0\" stroke=\"black\" fill=\"transparent\" stroke-width=\"1\"/>\n    \n        <circle cx=\"111\" cy=\"274\" r=\"2.4\" fill=\"red\"/>\n    \n        <rect x=\"100.0\" y=\"300.0\" width=\"100.0\" height=\"100.0\" stroke=\"black\" fill=\"transparent\" stroke-width=\"1\"/>\n    \n        <circle cx=\"139\" cy=\"321\" r=\"2.4\" fill=\"red\"/>\n    \n        <rect x=\"200.0\" y=\"0\" width=\"200.0\" height=\"200.0\" stroke=\"black\" fill=\"transparent\" stroke-width=\"1\"/>\n    \n        <rect x=\"200.0\" y=\"0\" width=\"100.0\" height=\"100.0\" stroke=\"black\" fill=\"transparent\" stroke-width=\"1\"/>\n    \n        <circle cx=\"261\" cy=\"28\" r=\"2.4\" fill=\"red\"/>\n    \n        <circle cx=\"240\" cy=\"12\" r=\"2.4\" fill=\"red\"/>\n    \n        <rect x=\"200.0\" y=\"100.0\" width=\"100.0\" height=\"100.0\" stroke=\"black\" fill=\"transparent\" stroke-width=\"1\"/>\n    \n        <rect x=\"200.0\" y=\"100.0\" width=\"50.0\" height=\"50.0\" stroke=\"black\" fill=\"transparent\" stroke-width=\"1\"/>\n    \n        <rect x=\"200.0\" y=\"150.0\" width=\"50.0\" height=\"50.0\" stroke=\"black\" fill=\"transparent\" stroke-width=\"1\"/>\n    \n        <circle cx=\"200\" cy=\"181\" r=\"2.4\" fill=\"red\"/>\n    \n        <rect x=\"250.0\" y=\"100.0\" width=\"50.0\" height=\"50.0\" stroke=\"black\" fill=\"transparent\" stroke-width=\"1\"/>\n    \n        <circle cx=\"272\" cy=\"114\" r=\"2.4\" fill=\"red\"/>\n    \n        <rect x=\"250.0\" y=\"150.0\" width=\"50.0\" height=\"50.0\" stroke=\"black\" fill=\"transparent\" stroke-width=\"1\"/>\n    \n        <circle cx=\"260\" cy=\"157\" r=\"2.4\" fill=\"red\"/>\n    \n        <circle cx=\"294\" cy=\"156\" r=\"2.4\" fill=\"red\"/>\n    \n        <rect x=\"300.0\" y=\"0\" width=\"100.0\" height=\"100.0\" stroke=\"black\" fill=\"transparent\" stroke-width=\"1\"/>\n    \n        <circle cx=\"355\" cy=\"37\" r=\"2.4\" fill=\"red\"/>\n    \n        <rect x=\"300.0\" y=\"100.0\" width=\"100.0\" height=\"100.0\" stroke=\"black\" fill=\"transparent\" stroke-width=\"1\"/>\n    \n        <circle cx=\"364\" cy=\"123\" r=\"2.4\" fill=\"red\"/>\n    \n        <rect x=\"200.0\" y=\"200.0\" width=\"200.0\" height=\"200.0\" stroke=\"black\" fill=\"transparent\" stroke-width=\"1\"/>\n    \n        <circle cx=\"221\" cy=\"344\" r=\"2.4\" fill=\"red\"/>\n    \n        <rect x=\"0\" y=\"0\" width=\"200.0\" height=\"200.0\" stroke=\"black\" fill=\"rgba(0,0,150,0.3)\" stroke-width=\"1\"/>\n    \n        <rect x=\"30\" y=\"16\" width=\"119\" height=\"35\" stroke=\"black\" fill=\"rgba(30, 200, 30, 0.3)\" stroke-width=\"1\"/>\n    </svg>",
      "text/plain": [
       "<IPython.core.display.SVG object>"
      ]
     },
     "metadata": {},
     "output_type": "display_data"
    },
    {
     "data": {
      "image/svg+xml": "<svg xmlns=\"http://www.w3.org/2000/svg\" width=\"400\" height=\"400\" version=\"1.1\">\n          <rect x=\"0\" y=\"0\" width=\"400\" height=\"400\" fill=\"white\"/>\n        \n        <rect x=\"0\" y=\"0\" width=\"200.0\" height=\"200.0\" stroke=\"black\" fill=\"transparent\" stroke-width=\"1\"/>\n    \n        <rect x=\"0\" y=\"0\" width=\"100.0\" height=\"100.0\" stroke=\"black\" fill=\"transparent\" stroke-width=\"1\"/>\n    \n        <rect x=\"0\" y=\"100.0\" width=\"100.0\" height=\"100.0\" stroke=\"black\" fill=\"transparent\" stroke-width=\"1\"/>\n    \n        <rect x=\"0\" y=\"100.0\" width=\"50.0\" height=\"50.0\" stroke=\"black\" fill=\"transparent\" stroke-width=\"1\"/>\n    \n        <circle cx=\"11\" cy=\"146\" r=\"2.4\" fill=\"red\"/>\n    \n        <rect x=\"0\" y=\"150.0\" width=\"50.0\" height=\"50.0\" stroke=\"black\" fill=\"transparent\" stroke-width=\"1\"/>\n    \n        <circle cx=\"13\" cy=\"198\" r=\"2.4\" fill=\"red\"/>\n    \n        <rect x=\"50.0\" y=\"100.0\" width=\"50.0\" height=\"50.0\" stroke=\"black\" fill=\"transparent\" stroke-width=\"1\"/>\n    \n        <rect x=\"50.0\" y=\"150.0\" width=\"50.0\" height=\"50.0\" stroke=\"black\" fill=\"transparent\" stroke-width=\"1\"/>\n    \n        <circle cx=\"50\" cy=\"154\" r=\"2.4\" fill=\"red\"/>\n    \n        <rect x=\"100.0\" y=\"0\" width=\"100.0\" height=\"100.0\" stroke=\"black\" fill=\"transparent\" stroke-width=\"1\"/>\n    \n        <circle cx=\"157\" cy=\"49\" r=\"2.4\" fill=\"red\"/>\n    \n        <circle cx=\"189\" cy=\"91\" r=\"2.4\" fill=\"red\"/>\n    \n        <rect x=\"100.0\" y=\"100.0\" width=\"100.0\" height=\"100.0\" stroke=\"black\" fill=\"transparent\" stroke-width=\"1\"/>\n    \n        <circle cx=\"189\" cy=\"193\" r=\"2.4\" fill=\"red\"/>\n    \n        <rect x=\"0\" y=\"200.0\" width=\"200.0\" height=\"200.0\" stroke=\"black\" fill=\"transparent\" stroke-width=\"1\"/>\n    \n        <rect x=\"0\" y=\"200.0\" width=\"100.0\" height=\"100.0\" stroke=\"black\" fill=\"transparent\" stroke-width=\"1\"/>\n    \n        <circle cx=\"23\" cy=\"281\" r=\"2.4\" fill=\"red\"/>\n    \n        <rect x=\"0\" y=\"300.0\" width=\"100.0\" height=\"100.0\" stroke=\"black\" fill=\"transparent\" stroke-width=\"1\"/>\n    \n        <circle cx=\"51\" cy=\"394\" r=\"2.4\" fill=\"red\"/>\n    \n        <circle cx=\"17\" cy=\"394\" r=\"2.4\" fill=\"red\"/>\n    \n        <rect x=\"100.0\" y=\"200.0\" width=\"100.0\" height=\"100.0\" stroke=\"black\" fill=\"transparent\" stroke-width=\"1\"/>\n    \n        <circle cx=\"111\" cy=\"274\" r=\"2.4\" fill=\"red\"/>\n    \n        <rect x=\"100.0\" y=\"300.0\" width=\"100.0\" height=\"100.0\" stroke=\"black\" fill=\"transparent\" stroke-width=\"1\"/>\n    \n        <circle cx=\"139\" cy=\"321\" r=\"2.4\" fill=\"red\"/>\n    \n        <rect x=\"200.0\" y=\"0\" width=\"200.0\" height=\"200.0\" stroke=\"black\" fill=\"transparent\" stroke-width=\"1\"/>\n    \n        <rect x=\"200.0\" y=\"0\" width=\"100.0\" height=\"100.0\" stroke=\"black\" fill=\"transparent\" stroke-width=\"1\"/>\n    \n        <circle cx=\"261\" cy=\"28\" r=\"2.4\" fill=\"red\"/>\n    \n        <circle cx=\"240\" cy=\"12\" r=\"2.4\" fill=\"red\"/>\n    \n        <rect x=\"200.0\" y=\"100.0\" width=\"100.0\" height=\"100.0\" stroke=\"black\" fill=\"transparent\" stroke-width=\"1\"/>\n    \n        <rect x=\"200.0\" y=\"100.0\" width=\"50.0\" height=\"50.0\" stroke=\"black\" fill=\"transparent\" stroke-width=\"1\"/>\n    \n        <rect x=\"200.0\" y=\"150.0\" width=\"50.0\" height=\"50.0\" stroke=\"black\" fill=\"transparent\" stroke-width=\"1\"/>\n    \n        <circle cx=\"200\" cy=\"181\" r=\"2.4\" fill=\"red\"/>\n    \n        <rect x=\"250.0\" y=\"100.0\" width=\"50.0\" height=\"50.0\" stroke=\"black\" fill=\"transparent\" stroke-width=\"1\"/>\n    \n        <circle cx=\"272\" cy=\"114\" r=\"2.4\" fill=\"red\"/>\n    \n        <rect x=\"250.0\" y=\"150.0\" width=\"50.0\" height=\"50.0\" stroke=\"black\" fill=\"transparent\" stroke-width=\"1\"/>\n    \n        <circle cx=\"260\" cy=\"157\" r=\"2.4\" fill=\"red\"/>\n    \n        <circle cx=\"294\" cy=\"156\" r=\"2.4\" fill=\"red\"/>\n    \n        <rect x=\"300.0\" y=\"0\" width=\"100.0\" height=\"100.0\" stroke=\"black\" fill=\"transparent\" stroke-width=\"1\"/>\n    \n        <circle cx=\"355\" cy=\"37\" r=\"2.4\" fill=\"red\"/>\n    \n        <rect x=\"300.0\" y=\"100.0\" width=\"100.0\" height=\"100.0\" stroke=\"black\" fill=\"transparent\" stroke-width=\"1\"/>\n    \n        <circle cx=\"364\" cy=\"123\" r=\"2.4\" fill=\"red\"/>\n    \n        <rect x=\"200.0\" y=\"200.0\" width=\"200.0\" height=\"200.0\" stroke=\"black\" fill=\"transparent\" stroke-width=\"1\"/>\n    \n        <circle cx=\"221\" cy=\"344\" r=\"2.4\" fill=\"red\"/>\n    \n        <rect x=\"0\" y=\"0\" width=\"100.0\" height=\"100.0\" stroke=\"black\" fill=\"rgba(0,0,150,0.3)\" stroke-width=\"1\"/>\n    \n        <rect x=\"100.0\" y=\"0\" width=\"100.0\" height=\"100.0\" stroke=\"black\" fill=\"rgba(0,0,150,0.3)\" stroke-width=\"1\"/>\n    \n        <rect x=\"30\" y=\"16\" width=\"119\" height=\"35\" stroke=\"black\" fill=\"rgba(30, 200, 30, 0.3)\" stroke-width=\"1\"/>\n    </svg>",
      "text/plain": [
       "<IPython.core.display.SVG object>"
      ]
     },
     "metadata": {},
     "output_type": "display_data"
    },
    {
     "data": {
      "image/svg+xml": "<svg xmlns=\"http://www.w3.org/2000/svg\" width=\"400\" height=\"400\" version=\"1.1\">\n          <rect x=\"0\" y=\"0\" width=\"400\" height=\"400\" fill=\"white\"/>\n        \n        <rect x=\"0\" y=\"0\" width=\"200.0\" height=\"200.0\" stroke=\"black\" fill=\"transparent\" stroke-width=\"1\"/>\n    \n        <rect x=\"0\" y=\"0\" width=\"100.0\" height=\"100.0\" stroke=\"black\" fill=\"transparent\" stroke-width=\"1\"/>\n    \n        <rect x=\"0\" y=\"100.0\" width=\"100.0\" height=\"100.0\" stroke=\"black\" fill=\"transparent\" stroke-width=\"1\"/>\n    \n        <rect x=\"0\" y=\"100.0\" width=\"50.0\" height=\"50.0\" stroke=\"black\" fill=\"transparent\" stroke-width=\"1\"/>\n    \n        <circle cx=\"11\" cy=\"146\" r=\"2.4\" fill=\"red\"/>\n    \n        <rect x=\"0\" y=\"150.0\" width=\"50.0\" height=\"50.0\" stroke=\"black\" fill=\"transparent\" stroke-width=\"1\"/>\n    \n        <circle cx=\"13\" cy=\"198\" r=\"2.4\" fill=\"red\"/>\n    \n        <rect x=\"50.0\" y=\"100.0\" width=\"50.0\" height=\"50.0\" stroke=\"black\" fill=\"transparent\" stroke-width=\"1\"/>\n    \n        <rect x=\"50.0\" y=\"150.0\" width=\"50.0\" height=\"50.0\" stroke=\"black\" fill=\"transparent\" stroke-width=\"1\"/>\n    \n        <circle cx=\"50\" cy=\"154\" r=\"2.4\" fill=\"red\"/>\n    \n        <rect x=\"100.0\" y=\"0\" width=\"100.0\" height=\"100.0\" stroke=\"black\" fill=\"transparent\" stroke-width=\"1\"/>\n    \n        <circle cx=\"157\" cy=\"49\" r=\"2.4\" fill=\"red\"/>\n    \n        <circle cx=\"189\" cy=\"91\" r=\"2.4\" fill=\"red\"/>\n    \n        <rect x=\"100.0\" y=\"100.0\" width=\"100.0\" height=\"100.0\" stroke=\"black\" fill=\"transparent\" stroke-width=\"1\"/>\n    \n        <circle cx=\"189\" cy=\"193\" r=\"2.4\" fill=\"red\"/>\n    \n        <rect x=\"0\" y=\"200.0\" width=\"200.0\" height=\"200.0\" stroke=\"black\" fill=\"transparent\" stroke-width=\"1\"/>\n    \n        <rect x=\"0\" y=\"200.0\" width=\"100.0\" height=\"100.0\" stroke=\"black\" fill=\"transparent\" stroke-width=\"1\"/>\n    \n        <circle cx=\"23\" cy=\"281\" r=\"2.4\" fill=\"red\"/>\n    \n        <rect x=\"0\" y=\"300.0\" width=\"100.0\" height=\"100.0\" stroke=\"black\" fill=\"transparent\" stroke-width=\"1\"/>\n    \n        <circle cx=\"51\" cy=\"394\" r=\"2.4\" fill=\"red\"/>\n    \n        <circle cx=\"17\" cy=\"394\" r=\"2.4\" fill=\"red\"/>\n    \n        <rect x=\"100.0\" y=\"200.0\" width=\"100.0\" height=\"100.0\" stroke=\"black\" fill=\"transparent\" stroke-width=\"1\"/>\n    \n        <circle cx=\"111\" cy=\"274\" r=\"2.4\" fill=\"red\"/>\n    \n        <rect x=\"100.0\" y=\"300.0\" width=\"100.0\" height=\"100.0\" stroke=\"black\" fill=\"transparent\" stroke-width=\"1\"/>\n    \n        <circle cx=\"139\" cy=\"321\" r=\"2.4\" fill=\"red\"/>\n    \n        <rect x=\"200.0\" y=\"0\" width=\"200.0\" height=\"200.0\" stroke=\"black\" fill=\"transparent\" stroke-width=\"1\"/>\n    \n        <rect x=\"200.0\" y=\"0\" width=\"100.0\" height=\"100.0\" stroke=\"black\" fill=\"transparent\" stroke-width=\"1\"/>\n    \n        <circle cx=\"261\" cy=\"28\" r=\"2.4\" fill=\"red\"/>\n    \n        <circle cx=\"240\" cy=\"12\" r=\"2.4\" fill=\"red\"/>\n    \n        <rect x=\"200.0\" y=\"100.0\" width=\"100.0\" height=\"100.0\" stroke=\"black\" fill=\"transparent\" stroke-width=\"1\"/>\n    \n        <rect x=\"200.0\" y=\"100.0\" width=\"50.0\" height=\"50.0\" stroke=\"black\" fill=\"transparent\" stroke-width=\"1\"/>\n    \n        <rect x=\"200.0\" y=\"150.0\" width=\"50.0\" height=\"50.0\" stroke=\"black\" fill=\"transparent\" stroke-width=\"1\"/>\n    \n        <circle cx=\"200\" cy=\"181\" r=\"2.4\" fill=\"red\"/>\n    \n        <rect x=\"250.0\" y=\"100.0\" width=\"50.0\" height=\"50.0\" stroke=\"black\" fill=\"transparent\" stroke-width=\"1\"/>\n    \n        <circle cx=\"272\" cy=\"114\" r=\"2.4\" fill=\"red\"/>\n    \n        <rect x=\"250.0\" y=\"150.0\" width=\"50.0\" height=\"50.0\" stroke=\"black\" fill=\"transparent\" stroke-width=\"1\"/>\n    \n        <circle cx=\"260\" cy=\"157\" r=\"2.4\" fill=\"red\"/>\n    \n        <circle cx=\"294\" cy=\"156\" r=\"2.4\" fill=\"red\"/>\n    \n        <rect x=\"300.0\" y=\"0\" width=\"100.0\" height=\"100.0\" stroke=\"black\" fill=\"transparent\" stroke-width=\"1\"/>\n    \n        <circle cx=\"355\" cy=\"37\" r=\"2.4\" fill=\"red\"/>\n    \n        <rect x=\"300.0\" y=\"100.0\" width=\"100.0\" height=\"100.0\" stroke=\"black\" fill=\"transparent\" stroke-width=\"1\"/>\n    \n        <circle cx=\"364\" cy=\"123\" r=\"2.4\" fill=\"red\"/>\n    \n        <rect x=\"200.0\" y=\"200.0\" width=\"200.0\" height=\"200.0\" stroke=\"black\" fill=\"transparent\" stroke-width=\"1\"/>\n    \n        <circle cx=\"221\" cy=\"344\" r=\"2.4\" fill=\"red\"/>\n    \n        <rect x=\"0\" y=\"0\" width=\"100.0\" height=\"100.0\" stroke=\"black\" fill=\"rgba(0,0,0, 0.3)\" stroke-width=\"1\"/>\n    \n        <rect x=\"100.0\" y=\"0\" width=\"100.0\" height=\"100.0\" stroke=\"black\" fill=\"rgba(0,0,0, 0.3)\" stroke-width=\"1\"/>\n    \n        <rect x=\"30\" y=\"16\" width=\"119\" height=\"35\" stroke=\"black\" fill=\"rgba(30, 200, 30, 0.3)\" stroke-width=\"1\"/>\n    </svg>",
      "text/plain": [
       "<IPython.core.display.SVG object>"
      ]
     },
     "metadata": {},
     "output_type": "display_data"
    }
   ],
   "source": [
    "query = Geometry(\n",
    "    randrange(0, int(W*2/3)), randrange(0, int(H*2/3)),\n",
    "    randrange(20, int(W/3)), randrange(20, int(H/3)))\n",
    "\n",
    "display(*gen_search_process(qs, query))"
   ]
  },
  {
   "cell_type": "code",
   "execution_count": null,
   "metadata": {},
   "outputs": [],
   "source": []
  }
 ],
 "metadata": {
  "kernelspec": {
   "display_name": "Python 3.9.4 64-bit",
   "language": "python",
   "name": "python3"
  },
  "language_info": {
   "codemirror_mode": {
    "name": "ipython",
    "version": 3
   },
   "file_extension": ".py",
   "mimetype": "text/x-python",
   "name": "python",
   "nbconvert_exporter": "python",
   "pygments_lexer": "ipython3",
   "version": "3.9.4"
  },
  "orig_nbformat": 4,
  "vscode": {
   "interpreter": {
    "hash": "25034407fed5d681614dac11a1c0537e8cb49e3a8883c071303eea01322943d9"
   }
  }
 },
 "nbformat": 4,
 "nbformat_minor": 2
}
